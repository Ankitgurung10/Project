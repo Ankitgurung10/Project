{
 "cells": [
  {
   "cell_type": "code",
   "execution_count": 1,
   "id": "bc887193",
   "metadata": {},
   "outputs": [],
   "source": [
    "import numpy as np\n",
    "import pandas as pd\n",
    "import matplotlib.pyplot as plt\n",
    "import seaborn as sb\n",
    "import warnings\n",
    "warnings.filterwarnings('ignore')\n",
    "from sklearn import preprocessing\n",
    "from sklearn.preprocessing import MinMaxScaler, StandardScaler, FunctionTransformer\n",
    "from ipywidgets import interact\n",
    "import ipywidgets as widgets\n",
    "from sklearn import metrics\n",
    "from sklearn.linear_model import LinearRegression\n",
    "from sklearn.model_selection import train_test_split\n",
    "from sklearn.metrics import mean_absolute_error\n",
    "from sklearn.metrics import mean_squared_error\n",
    "from sklearn.tree import DecisionTreeRegressor\n",
    "from sklearn.model_selection import cross_val_score, cross_val_predict, train_test_split\n",
    "from sklearn.ensemble import RandomForestRegressor"
   ]
  },
  {
   "cell_type": "markdown",
   "id": "e9ab8a31",
   "metadata": {},
   "source": [
    "# Loading dataset"
   ]
  },
  {
   "cell_type": "code",
   "execution_count": 2,
   "id": "35c20b4a",
   "metadata": {},
   "outputs": [
    {
     "data": {
      "text/html": [
       "<div>\n",
       "<style scoped>\n",
       "    .dataframe tbody tr th:only-of-type {\n",
       "        vertical-align: middle;\n",
       "    }\n",
       "\n",
       "    .dataframe tbody tr th {\n",
       "        vertical-align: top;\n",
       "    }\n",
       "\n",
       "    .dataframe thead th {\n",
       "        text-align: right;\n",
       "    }\n",
       "</style>\n",
       "<table border=\"1\" class=\"dataframe\">\n",
       "  <thead>\n",
       "    <tr style=\"text-align: right;\">\n",
       "      <th></th>\n",
       "      <th>age</th>\n",
       "      <th>sex</th>\n",
       "      <th>bmi</th>\n",
       "      <th>classif</th>\n",
       "      <th>children</th>\n",
       "      <th>smoker</th>\n",
       "      <th>region</th>\n",
       "      <th>charges</th>\n",
       "    </tr>\n",
       "  </thead>\n",
       "  <tbody>\n",
       "    <tr>\n",
       "      <th>0</th>\n",
       "      <td>19</td>\n",
       "      <td>female</td>\n",
       "      <td>27.900</td>\n",
       "      <td>PREO</td>\n",
       "      <td>0</td>\n",
       "      <td>yes</td>\n",
       "      <td>southwest</td>\n",
       "      <td>16884.92400</td>\n",
       "    </tr>\n",
       "    <tr>\n",
       "      <th>1</th>\n",
       "      <td>18</td>\n",
       "      <td>male</td>\n",
       "      <td>33.770</td>\n",
       "      <td>OB1</td>\n",
       "      <td>1</td>\n",
       "      <td>no</td>\n",
       "      <td>southeast</td>\n",
       "      <td>1725.55230</td>\n",
       "    </tr>\n",
       "    <tr>\n",
       "      <th>2</th>\n",
       "      <td>28</td>\n",
       "      <td>male</td>\n",
       "      <td>33.000</td>\n",
       "      <td>OB1</td>\n",
       "      <td>3</td>\n",
       "      <td>no</td>\n",
       "      <td>southeast</td>\n",
       "      <td>4449.46200</td>\n",
       "    </tr>\n",
       "    <tr>\n",
       "      <th>3</th>\n",
       "      <td>0</td>\n",
       "      <td>male</td>\n",
       "      <td>22.705</td>\n",
       "      <td>N</td>\n",
       "      <td>0</td>\n",
       "      <td>no</td>\n",
       "      <td>northwest</td>\n",
       "      <td>21984.47061</td>\n",
       "    </tr>\n",
       "    <tr>\n",
       "      <th>4</th>\n",
       "      <td>32</td>\n",
       "      <td>male</td>\n",
       "      <td>28.880</td>\n",
       "      <td>PREO</td>\n",
       "      <td>0</td>\n",
       "      <td>no</td>\n",
       "      <td>northwest</td>\n",
       "      <td>3866.85520</td>\n",
       "    </tr>\n",
       "    <tr>\n",
       "      <th>...</th>\n",
       "      <td>...</td>\n",
       "      <td>...</td>\n",
       "      <td>...</td>\n",
       "      <td>...</td>\n",
       "      <td>...</td>\n",
       "      <td>...</td>\n",
       "      <td>...</td>\n",
       "      <td>...</td>\n",
       "    </tr>\n",
       "    <tr>\n",
       "      <th>1333</th>\n",
       "      <td>50</td>\n",
       "      <td>male</td>\n",
       "      <td>30.970</td>\n",
       "      <td>OB1</td>\n",
       "      <td>3</td>\n",
       "      <td>no</td>\n",
       "      <td>northwest</td>\n",
       "      <td>10600.54830</td>\n",
       "    </tr>\n",
       "    <tr>\n",
       "      <th>1334</th>\n",
       "      <td>18</td>\n",
       "      <td>female</td>\n",
       "      <td>31.920</td>\n",
       "      <td>OB1</td>\n",
       "      <td>0</td>\n",
       "      <td>no</td>\n",
       "      <td>northeast</td>\n",
       "      <td>2205.98080</td>\n",
       "    </tr>\n",
       "    <tr>\n",
       "      <th>1335</th>\n",
       "      <td>18</td>\n",
       "      <td>female</td>\n",
       "      <td>36.850</td>\n",
       "      <td>OB2</td>\n",
       "      <td>0</td>\n",
       "      <td>no</td>\n",
       "      <td>southeast</td>\n",
       "      <td>1629.83350</td>\n",
       "    </tr>\n",
       "    <tr>\n",
       "      <th>1336</th>\n",
       "      <td>21</td>\n",
       "      <td>female</td>\n",
       "      <td>25.800</td>\n",
       "      <td>PREO</td>\n",
       "      <td>0</td>\n",
       "      <td>no</td>\n",
       "      <td>southwest</td>\n",
       "      <td>2007.94500</td>\n",
       "    </tr>\n",
       "    <tr>\n",
       "      <th>1337</th>\n",
       "      <td>-1</td>\n",
       "      <td>female</td>\n",
       "      <td>29.070</td>\n",
       "      <td>PREO</td>\n",
       "      <td>0</td>\n",
       "      <td>yes</td>\n",
       "      <td>northwest</td>\n",
       "      <td>29141.36030</td>\n",
       "    </tr>\n",
       "  </tbody>\n",
       "</table>\n",
       "<p>1338 rows × 8 columns</p>\n",
       "</div>"
      ],
      "text/plain": [
       "      age     sex     bmi classif  children smoker     region      charges\n",
       "0      19  female  27.900    PREO         0    yes  southwest  16884.92400\n",
       "1      18    male  33.770     OB1         1     no  southeast   1725.55230\n",
       "2      28    male  33.000     OB1         3     no  southeast   4449.46200\n",
       "3       0    male  22.705       N         0     no  northwest  21984.47061\n",
       "4      32    male  28.880    PREO         0     no  northwest   3866.85520\n",
       "...   ...     ...     ...     ...       ...    ...        ...          ...\n",
       "1333   50    male  30.970     OB1         3     no  northwest  10600.54830\n",
       "1334   18  female  31.920     OB1         0     no  northeast   2205.98080\n",
       "1335   18  female  36.850     OB2         0     no  southeast   1629.83350\n",
       "1336   21  female  25.800    PREO         0     no  southwest   2007.94500\n",
       "1337   -1  female  29.070    PREO         0    yes  northwest  29141.36030\n",
       "\n",
       "[1338 rows x 8 columns]"
      ]
     },
     "execution_count": 2,
     "metadata": {},
     "output_type": "execute_result"
    }
   ],
   "source": [
    "insurance =pd.read_csv('DS3_C6_S1_Regression_Insurance_Data_Project.csv')\n",
    "insurance "
   ]
  },
  {
   "cell_type": "markdown",
   "id": "50ea0b23",
   "metadata": {},
   "source": [
    "# Checking the data"
   ]
  },
  {
   "cell_type": "code",
   "execution_count": 3,
   "id": "fb874cd3",
   "metadata": {},
   "outputs": [
    {
     "name": "stdout",
     "output_type": "stream",
     "text": [
      "<class 'pandas.core.frame.DataFrame'>\n",
      "RangeIndex: 1338 entries, 0 to 1337\n",
      "Data columns (total 8 columns):\n",
      " #   Column    Non-Null Count  Dtype  \n",
      "---  ------    --------------  -----  \n",
      " 0   age       1338 non-null   int64  \n",
      " 1   sex       1338 non-null   object \n",
      " 2   bmi       1338 non-null   float64\n",
      " 3   classif   1330 non-null   object \n",
      " 4   children  1338 non-null   int64  \n",
      " 5   smoker    1338 non-null   object \n",
      " 6   region    1338 non-null   object \n",
      " 7   charges   1338 non-null   float64\n",
      "dtypes: float64(2), int64(2), object(4)\n",
      "memory usage: 83.8+ KB\n"
     ]
    }
   ],
   "source": [
    "insurance.info()"
   ]
  },
  {
   "cell_type": "code",
   "execution_count": 4,
   "id": "e6500618",
   "metadata": {},
   "outputs": [
    {
     "data": {
      "text/html": [
       "<div>\n",
       "<style scoped>\n",
       "    .dataframe tbody tr th:only-of-type {\n",
       "        vertical-align: middle;\n",
       "    }\n",
       "\n",
       "    .dataframe tbody tr th {\n",
       "        vertical-align: top;\n",
       "    }\n",
       "\n",
       "    .dataframe thead th {\n",
       "        text-align: right;\n",
       "    }\n",
       "</style>\n",
       "<table border=\"1\" class=\"dataframe\">\n",
       "  <thead>\n",
       "    <tr style=\"text-align: right;\">\n",
       "      <th></th>\n",
       "      <th>age</th>\n",
       "      <th>bmi</th>\n",
       "      <th>children</th>\n",
       "      <th>charges</th>\n",
       "    </tr>\n",
       "  </thead>\n",
       "  <tbody>\n",
       "    <tr>\n",
       "      <th>count</th>\n",
       "      <td>1338.000000</td>\n",
       "      <td>1338.000000</td>\n",
       "      <td>1338.000000</td>\n",
       "      <td>1338.000000</td>\n",
       "    </tr>\n",
       "    <tr>\n",
       "      <th>mean</th>\n",
       "      <td>39.133782</td>\n",
       "      <td>30.663397</td>\n",
       "      <td>1.094918</td>\n",
       "      <td>13270.422265</td>\n",
       "    </tr>\n",
       "    <tr>\n",
       "      <th>std</th>\n",
       "      <td>14.958658</td>\n",
       "      <td>6.098187</td>\n",
       "      <td>1.205493</td>\n",
       "      <td>12110.011237</td>\n",
       "    </tr>\n",
       "    <tr>\n",
       "      <th>min</th>\n",
       "      <td>-58.000000</td>\n",
       "      <td>15.960000</td>\n",
       "      <td>0.000000</td>\n",
       "      <td>1121.873900</td>\n",
       "    </tr>\n",
       "    <tr>\n",
       "      <th>25%</th>\n",
       "      <td>26.000000</td>\n",
       "      <td>26.296250</td>\n",
       "      <td>0.000000</td>\n",
       "      <td>4740.287150</td>\n",
       "    </tr>\n",
       "    <tr>\n",
       "      <th>50%</th>\n",
       "      <td>39.000000</td>\n",
       "      <td>30.400000</td>\n",
       "      <td>1.000000</td>\n",
       "      <td>9382.033000</td>\n",
       "    </tr>\n",
       "    <tr>\n",
       "      <th>75%</th>\n",
       "      <td>51.000000</td>\n",
       "      <td>34.693750</td>\n",
       "      <td>2.000000</td>\n",
       "      <td>16639.912515</td>\n",
       "    </tr>\n",
       "    <tr>\n",
       "      <th>max</th>\n",
       "      <td>190.000000</td>\n",
       "      <td>53.130000</td>\n",
       "      <td>5.000000</td>\n",
       "      <td>63770.428010</td>\n",
       "    </tr>\n",
       "  </tbody>\n",
       "</table>\n",
       "</div>"
      ],
      "text/plain": [
       "               age          bmi     children       charges\n",
       "count  1338.000000  1338.000000  1338.000000   1338.000000\n",
       "mean     39.133782    30.663397     1.094918  13270.422265\n",
       "std      14.958658     6.098187     1.205493  12110.011237\n",
       "min     -58.000000    15.960000     0.000000   1121.873900\n",
       "25%      26.000000    26.296250     0.000000   4740.287150\n",
       "50%      39.000000    30.400000     1.000000   9382.033000\n",
       "75%      51.000000    34.693750     2.000000  16639.912515\n",
       "max     190.000000    53.130000     5.000000  63770.428010"
      ]
     },
     "execution_count": 4,
     "metadata": {},
     "output_type": "execute_result"
    }
   ],
   "source": [
    "insurance.describe()"
   ]
  },
  {
   "cell_type": "code",
   "execution_count": 5,
   "id": "80eab2eb",
   "metadata": {},
   "outputs": [
    {
     "data": {
      "text/plain": [
       "(1338, 8)"
      ]
     },
     "execution_count": 5,
     "metadata": {},
     "output_type": "execute_result"
    }
   ],
   "source": [
    "insurance.shape"
   ]
  },
  {
   "cell_type": "code",
   "execution_count": 6,
   "id": "7043ad6e",
   "metadata": {},
   "outputs": [
    {
     "data": {
      "text/plain": [
       "10704"
      ]
     },
     "execution_count": 6,
     "metadata": {},
     "output_type": "execute_result"
    }
   ],
   "source": [
    "insurance.size"
   ]
  },
  {
   "cell_type": "code",
   "execution_count": 7,
   "id": "870596e7",
   "metadata": {},
   "outputs": [
    {
     "data": {
      "text/plain": [
       "age           int64\n",
       "sex          object\n",
       "bmi         float64\n",
       "classif      object\n",
       "children      int64\n",
       "smoker       object\n",
       "region       object\n",
       "charges     float64\n",
       "dtype: object"
      ]
     },
     "execution_count": 7,
     "metadata": {},
     "output_type": "execute_result"
    }
   ],
   "source": [
    "insurance.dtypes"
   ]
  },
  {
   "cell_type": "markdown",
   "id": "173a1785",
   "metadata": {},
   "source": [
    "# Checking null values."
   ]
  },
  {
   "cell_type": "code",
   "execution_count": 8,
   "id": "2a9ee5f6",
   "metadata": {},
   "outputs": [
    {
     "data": {
      "text/plain": [
       "age         0\n",
       "sex         0\n",
       "bmi         0\n",
       "classif     8\n",
       "children    0\n",
       "smoker      0\n",
       "region      0\n",
       "charges     0\n",
       "dtype: int64"
      ]
     },
     "execution_count": 8,
     "metadata": {},
     "output_type": "execute_result"
    }
   ],
   "source": [
    "insurance.isnull().sum()"
   ]
  },
  {
   "cell_type": "code",
   "execution_count": 9,
   "id": "e8c6bfb2",
   "metadata": {},
   "outputs": [],
   "source": [
    "def fill_null(insurance,i):\n",
    "    if insurance['bmi'][i]< 18.5:\n",
    "        return 'UW'\n",
    "    elif (insurance['bmi'][i]> 18.5) & (insurance['bmi'][i]<= 24.9):\n",
    "        return 'N'\n",
    "    elif (insurance['bmi'][i]> 25) & (insurance['bmi'][i]<= 29.9):\n",
    "        return 'PREO'\n",
    "    elif (insurance['bmi'][i]> 30) & (insurance['bmi'][i]<= 34.9):\n",
    "        return 'OB1'\n",
    "    elif (insurance['bmi'][i]> 35) & (insurance['bmi'][i]<= 35.9):\n",
    "        return 'OB2'\n",
    "    else:\n",
    "        return 'OB3'"
   ]
  },
  {
   "cell_type": "code",
   "execution_count": 10,
   "id": "73968216",
   "metadata": {},
   "outputs": [],
   "source": [
    "lst=['PREO','OB1','N','OB2','OB3','UW']"
   ]
  },
  {
   "cell_type": "code",
   "execution_count": 11,
   "id": "45518823",
   "metadata": {},
   "outputs": [],
   "source": [
    "for i in range(0,len(insurance)):\n",
    "    if insurance['classif'][i] not in lst:\n",
    "        insurance['classif'][i]= fill_null(insurance,i)"
   ]
  },
  {
   "cell_type": "code",
   "execution_count": 12,
   "id": "ead78d1d",
   "metadata": {},
   "outputs": [
    {
     "data": {
      "text/plain": [
       "age         0\n",
       "sex         0\n",
       "bmi         0\n",
       "classif     0\n",
       "children    0\n",
       "smoker      0\n",
       "region      0\n",
       "charges     0\n",
       "dtype: int64"
      ]
     },
     "execution_count": 12,
     "metadata": {},
     "output_type": "execute_result"
    }
   ],
   "source": [
    "insurance.isnull().sum()"
   ]
  },
  {
   "cell_type": "code",
   "execution_count": 13,
   "id": "74ebfb6e",
   "metadata": {},
   "outputs": [],
   "source": [
    "insurance2=insurance.copy()"
   ]
  },
  {
   "cell_type": "code",
   "execution_count": 14,
   "id": "373434e0",
   "metadata": {},
   "outputs": [],
   "source": [
    "insurance2.age.replace(to_replace=-58.,value=39,inplace=True)\n",
    "insurance2.age.replace(to_replace=190,value=39,inplace=True)\n",
    "insurance2.age.replace(to_replace=-1,value=39,inplace=True)"
   ]
  },
  {
   "cell_type": "code",
   "execution_count": 15,
   "id": "a917f8f7",
   "metadata": {},
   "outputs": [
    {
     "data": {
      "text/html": [
       "<div>\n",
       "<style scoped>\n",
       "    .dataframe tbody tr th:only-of-type {\n",
       "        vertical-align: middle;\n",
       "    }\n",
       "\n",
       "    .dataframe tbody tr th {\n",
       "        vertical-align: top;\n",
       "    }\n",
       "\n",
       "    .dataframe thead th {\n",
       "        text-align: right;\n",
       "    }\n",
       "</style>\n",
       "<table border=\"1\" class=\"dataframe\">\n",
       "  <thead>\n",
       "    <tr style=\"text-align: right;\">\n",
       "      <th></th>\n",
       "      <th>age</th>\n",
       "      <th>bmi</th>\n",
       "      <th>children</th>\n",
       "      <th>charges</th>\n",
       "    </tr>\n",
       "  </thead>\n",
       "  <tbody>\n",
       "    <tr>\n",
       "      <th>count</th>\n",
       "      <td>1338.000000</td>\n",
       "      <td>1338.000000</td>\n",
       "      <td>1338.000000</td>\n",
       "      <td>1338.000000</td>\n",
       "    </tr>\n",
       "    <tr>\n",
       "      <th>mean</th>\n",
       "      <td>39.123318</td>\n",
       "      <td>30.663397</td>\n",
       "      <td>1.094918</td>\n",
       "      <td>13270.422265</td>\n",
       "    </tr>\n",
       "    <tr>\n",
       "      <th>std</th>\n",
       "      <td>14.088157</td>\n",
       "      <td>6.098187</td>\n",
       "      <td>1.205493</td>\n",
       "      <td>12110.011237</td>\n",
       "    </tr>\n",
       "    <tr>\n",
       "      <th>min</th>\n",
       "      <td>0.000000</td>\n",
       "      <td>15.960000</td>\n",
       "      <td>0.000000</td>\n",
       "      <td>1121.873900</td>\n",
       "    </tr>\n",
       "    <tr>\n",
       "      <th>25%</th>\n",
       "      <td>26.250000</td>\n",
       "      <td>26.296250</td>\n",
       "      <td>0.000000</td>\n",
       "      <td>4740.287150</td>\n",
       "    </tr>\n",
       "    <tr>\n",
       "      <th>50%</th>\n",
       "      <td>39.000000</td>\n",
       "      <td>30.400000</td>\n",
       "      <td>1.000000</td>\n",
       "      <td>9382.033000</td>\n",
       "    </tr>\n",
       "    <tr>\n",
       "      <th>75%</th>\n",
       "      <td>51.000000</td>\n",
       "      <td>34.693750</td>\n",
       "      <td>2.000000</td>\n",
       "      <td>16639.912515</td>\n",
       "    </tr>\n",
       "    <tr>\n",
       "      <th>max</th>\n",
       "      <td>64.000000</td>\n",
       "      <td>53.130000</td>\n",
       "      <td>5.000000</td>\n",
       "      <td>63770.428010</td>\n",
       "    </tr>\n",
       "  </tbody>\n",
       "</table>\n",
       "</div>"
      ],
      "text/plain": [
       "               age          bmi     children       charges\n",
       "count  1338.000000  1338.000000  1338.000000   1338.000000\n",
       "mean     39.123318    30.663397     1.094918  13270.422265\n",
       "std      14.088157     6.098187     1.205493  12110.011237\n",
       "min       0.000000    15.960000     0.000000   1121.873900\n",
       "25%      26.250000    26.296250     0.000000   4740.287150\n",
       "50%      39.000000    30.400000     1.000000   9382.033000\n",
       "75%      51.000000    34.693750     2.000000  16639.912515\n",
       "max      64.000000    53.130000     5.000000  63770.428010"
      ]
     },
     "execution_count": 15,
     "metadata": {},
     "output_type": "execute_result"
    }
   ],
   "source": [
    "insurance2.describe()"
   ]
  },
  {
   "cell_type": "code",
   "execution_count": 16,
   "id": "b4e02884",
   "metadata": {},
   "outputs": [
    {
     "data": {
      "text/html": [
       "<div>\n",
       "<style scoped>\n",
       "    .dataframe tbody tr th:only-of-type {\n",
       "        vertical-align: middle;\n",
       "    }\n",
       "\n",
       "    .dataframe tbody tr th {\n",
       "        vertical-align: top;\n",
       "    }\n",
       "\n",
       "    .dataframe thead th {\n",
       "        text-align: right;\n",
       "    }\n",
       "</style>\n",
       "<table border=\"1\" class=\"dataframe\">\n",
       "  <thead>\n",
       "    <tr style=\"text-align: right;\">\n",
       "      <th></th>\n",
       "      <th>age</th>\n",
       "      <th>bmi</th>\n",
       "      <th>children</th>\n",
       "      <th>charges</th>\n",
       "    </tr>\n",
       "  </thead>\n",
       "  <tbody>\n",
       "    <tr>\n",
       "      <th>0</th>\n",
       "      <td>19</td>\n",
       "      <td>27.900</td>\n",
       "      <td>0</td>\n",
       "      <td>16884.92400</td>\n",
       "    </tr>\n",
       "    <tr>\n",
       "      <th>1</th>\n",
       "      <td>18</td>\n",
       "      <td>33.770</td>\n",
       "      <td>1</td>\n",
       "      <td>1725.55230</td>\n",
       "    </tr>\n",
       "    <tr>\n",
       "      <th>2</th>\n",
       "      <td>28</td>\n",
       "      <td>33.000</td>\n",
       "      <td>3</td>\n",
       "      <td>4449.46200</td>\n",
       "    </tr>\n",
       "    <tr>\n",
       "      <th>3</th>\n",
       "      <td>0</td>\n",
       "      <td>22.705</td>\n",
       "      <td>0</td>\n",
       "      <td>21984.47061</td>\n",
       "    </tr>\n",
       "    <tr>\n",
       "      <th>4</th>\n",
       "      <td>32</td>\n",
       "      <td>28.880</td>\n",
       "      <td>0</td>\n",
       "      <td>3866.85520</td>\n",
       "    </tr>\n",
       "    <tr>\n",
       "      <th>...</th>\n",
       "      <td>...</td>\n",
       "      <td>...</td>\n",
       "      <td>...</td>\n",
       "      <td>...</td>\n",
       "    </tr>\n",
       "    <tr>\n",
       "      <th>1333</th>\n",
       "      <td>50</td>\n",
       "      <td>30.970</td>\n",
       "      <td>3</td>\n",
       "      <td>10600.54830</td>\n",
       "    </tr>\n",
       "    <tr>\n",
       "      <th>1334</th>\n",
       "      <td>18</td>\n",
       "      <td>31.920</td>\n",
       "      <td>0</td>\n",
       "      <td>2205.98080</td>\n",
       "    </tr>\n",
       "    <tr>\n",
       "      <th>1335</th>\n",
       "      <td>18</td>\n",
       "      <td>36.850</td>\n",
       "      <td>0</td>\n",
       "      <td>1629.83350</td>\n",
       "    </tr>\n",
       "    <tr>\n",
       "      <th>1336</th>\n",
       "      <td>21</td>\n",
       "      <td>25.800</td>\n",
       "      <td>0</td>\n",
       "      <td>2007.94500</td>\n",
       "    </tr>\n",
       "    <tr>\n",
       "      <th>1337</th>\n",
       "      <td>-1</td>\n",
       "      <td>29.070</td>\n",
       "      <td>0</td>\n",
       "      <td>29141.36030</td>\n",
       "    </tr>\n",
       "  </tbody>\n",
       "</table>\n",
       "<p>1338 rows × 4 columns</p>\n",
       "</div>"
      ],
      "text/plain": [
       "      age     bmi  children      charges\n",
       "0      19  27.900         0  16884.92400\n",
       "1      18  33.770         1   1725.55230\n",
       "2      28  33.000         3   4449.46200\n",
       "3       0  22.705         0  21984.47061\n",
       "4      32  28.880         0   3866.85520\n",
       "...   ...     ...       ...          ...\n",
       "1333   50  30.970         3  10600.54830\n",
       "1334   18  31.920         0   2205.98080\n",
       "1335   18  36.850         0   1629.83350\n",
       "1336   21  25.800         0   2007.94500\n",
       "1337   -1  29.070         0  29141.36030\n",
       "\n",
       "[1338 rows x 4 columns]"
      ]
     },
     "execution_count": 16,
     "metadata": {},
     "output_type": "execute_result"
    }
   ],
   "source": [
    "numerical_data=insurance.select_dtypes(include=np.number)\n",
    "numerical_data"
   ]
  },
  {
   "cell_type": "code",
   "execution_count": 17,
   "id": "2bac09b4",
   "metadata": {},
   "outputs": [
    {
     "data": {
      "text/html": [
       "<div>\n",
       "<style scoped>\n",
       "    .dataframe tbody tr th:only-of-type {\n",
       "        vertical-align: middle;\n",
       "    }\n",
       "\n",
       "    .dataframe tbody tr th {\n",
       "        vertical-align: top;\n",
       "    }\n",
       "\n",
       "    .dataframe thead th {\n",
       "        text-align: right;\n",
       "    }\n",
       "</style>\n",
       "<table border=\"1\" class=\"dataframe\">\n",
       "  <thead>\n",
       "    <tr style=\"text-align: right;\">\n",
       "      <th></th>\n",
       "      <th>sex</th>\n",
       "      <th>classif</th>\n",
       "      <th>smoker</th>\n",
       "      <th>region</th>\n",
       "    </tr>\n",
       "  </thead>\n",
       "  <tbody>\n",
       "    <tr>\n",
       "      <th>0</th>\n",
       "      <td>female</td>\n",
       "      <td>PREO</td>\n",
       "      <td>yes</td>\n",
       "      <td>southwest</td>\n",
       "    </tr>\n",
       "    <tr>\n",
       "      <th>1</th>\n",
       "      <td>male</td>\n",
       "      <td>OB1</td>\n",
       "      <td>no</td>\n",
       "      <td>southeast</td>\n",
       "    </tr>\n",
       "    <tr>\n",
       "      <th>2</th>\n",
       "      <td>male</td>\n",
       "      <td>OB1</td>\n",
       "      <td>no</td>\n",
       "      <td>southeast</td>\n",
       "    </tr>\n",
       "    <tr>\n",
       "      <th>3</th>\n",
       "      <td>male</td>\n",
       "      <td>N</td>\n",
       "      <td>no</td>\n",
       "      <td>northwest</td>\n",
       "    </tr>\n",
       "    <tr>\n",
       "      <th>4</th>\n",
       "      <td>male</td>\n",
       "      <td>PREO</td>\n",
       "      <td>no</td>\n",
       "      <td>northwest</td>\n",
       "    </tr>\n",
       "    <tr>\n",
       "      <th>...</th>\n",
       "      <td>...</td>\n",
       "      <td>...</td>\n",
       "      <td>...</td>\n",
       "      <td>...</td>\n",
       "    </tr>\n",
       "    <tr>\n",
       "      <th>1333</th>\n",
       "      <td>male</td>\n",
       "      <td>OB1</td>\n",
       "      <td>no</td>\n",
       "      <td>northwest</td>\n",
       "    </tr>\n",
       "    <tr>\n",
       "      <th>1334</th>\n",
       "      <td>female</td>\n",
       "      <td>OB1</td>\n",
       "      <td>no</td>\n",
       "      <td>northeast</td>\n",
       "    </tr>\n",
       "    <tr>\n",
       "      <th>1335</th>\n",
       "      <td>female</td>\n",
       "      <td>OB2</td>\n",
       "      <td>no</td>\n",
       "      <td>southeast</td>\n",
       "    </tr>\n",
       "    <tr>\n",
       "      <th>1336</th>\n",
       "      <td>female</td>\n",
       "      <td>PREO</td>\n",
       "      <td>no</td>\n",
       "      <td>southwest</td>\n",
       "    </tr>\n",
       "    <tr>\n",
       "      <th>1337</th>\n",
       "      <td>female</td>\n",
       "      <td>PREO</td>\n",
       "      <td>yes</td>\n",
       "      <td>northwest</td>\n",
       "    </tr>\n",
       "  </tbody>\n",
       "</table>\n",
       "<p>1338 rows × 4 columns</p>\n",
       "</div>"
      ],
      "text/plain": [
       "         sex classif smoker     region\n",
       "0     female    PREO    yes  southwest\n",
       "1       male     OB1     no  southeast\n",
       "2       male     OB1     no  southeast\n",
       "3       male       N     no  northwest\n",
       "4       male    PREO     no  northwest\n",
       "...      ...     ...    ...        ...\n",
       "1333    male     OB1     no  northwest\n",
       "1334  female     OB1     no  northeast\n",
       "1335  female     OB2     no  southeast\n",
       "1336  female    PREO     no  southwest\n",
       "1337  female    PREO    yes  northwest\n",
       "\n",
       "[1338 rows x 4 columns]"
      ]
     },
     "execution_count": 17,
     "metadata": {},
     "output_type": "execute_result"
    }
   ],
   "source": [
    "categorical_data=insurance.select_dtypes(exclude=np.number)\n",
    "categorical_data"
   ]
  },
  {
   "cell_type": "markdown",
   "id": "0c46cc9c",
   "metadata": {},
   "source": [
    "# Checking if noise is present."
   ]
  },
  {
   "cell_type": "code",
   "execution_count": 18,
   "id": "53dd5bbb",
   "metadata": {},
   "outputs": [
    {
     "name": "stdout",
     "output_type": "stream",
     "text": [
      "male      676\n",
      "female    662\n",
      "Name: sex, dtype: int64\n",
      "------------\n",
      "OB1     391\n",
      "PREO    384\n",
      "N       227\n",
      "OB2     225\n",
      "OB3      91\n",
      "UW       20\n",
      "Name: classif, dtype: int64\n",
      "------------\n",
      "no     1064\n",
      "yes     274\n",
      "Name: smoker, dtype: int64\n",
      "------------\n",
      "southeast    364\n",
      "southwest    325\n",
      "northwest    325\n",
      "northeast    324\n",
      "Name: region, dtype: int64\n",
      "------------\n"
     ]
    }
   ],
   "source": [
    "for cols in list(categorical_data.columns):\n",
    "    print(round(insurance[cols].value_counts()))\n",
    "    print('------------')"
   ]
  },
  {
   "cell_type": "code",
   "execution_count": 19,
   "id": "08e16abb",
   "metadata": {},
   "outputs": [
    {
     "data": {
      "text/plain": [
       "age           int64\n",
       "sex          object\n",
       "bmi         float64\n",
       "classif      object\n",
       "children      int64\n",
       "smoker       object\n",
       "region       object\n",
       "charges     float64\n",
       "dtype: object"
      ]
     },
     "execution_count": 19,
     "metadata": {},
     "output_type": "execute_result"
    }
   ],
   "source": [
    "insurance2.dtypes"
   ]
  },
  {
   "cell_type": "markdown",
   "id": "d7c75897",
   "metadata": {},
   "source": [
    "# Doing label encoding to non-numerical data "
   ]
  },
  {
   "cell_type": "code",
   "execution_count": 20,
   "id": "ef5020c7",
   "metadata": {},
   "outputs": [],
   "source": [
    "from sklearn import preprocessing\n",
    "label_encoder=preprocessing.LabelEncoder()"
   ]
  },
  {
   "cell_type": "code",
   "execution_count": 21,
   "id": "75105697",
   "metadata": {},
   "outputs": [],
   "source": [
    "insurance2['sex']=label_encoder.fit_transform(insurance2['sex'])\n",
    "insurance2['smoker']=label_encoder.fit_transform(insurance2['smoker'])\n",
    "insurance2['region']=label_encoder.fit_transform(insurance2['region'])\n",
    "insurance2['classif']=label_encoder.fit_transform(insurance2['classif'])"
   ]
  },
  {
   "cell_type": "markdown",
   "id": "56c57022",
   "metadata": {},
   "source": [
    "# Doing scaling"
   ]
  },
  {
   "cell_type": "code",
   "execution_count": 22,
   "id": "f0ba1bc5",
   "metadata": {},
   "outputs": [
    {
     "data": {
      "text/html": [
       "<div>\n",
       "<style scoped>\n",
       "    .dataframe tbody tr th:only-of-type {\n",
       "        vertical-align: middle;\n",
       "    }\n",
       "\n",
       "    .dataframe tbody tr th {\n",
       "        vertical-align: top;\n",
       "    }\n",
       "\n",
       "    .dataframe thead th {\n",
       "        text-align: right;\n",
       "    }\n",
       "</style>\n",
       "<table border=\"1\" class=\"dataframe\">\n",
       "  <thead>\n",
       "    <tr style=\"text-align: right;\">\n",
       "      <th></th>\n",
       "      <th>age</th>\n",
       "      <th>sex</th>\n",
       "      <th>bmi</th>\n",
       "      <th>classif</th>\n",
       "      <th>children</th>\n",
       "      <th>smoker</th>\n",
       "      <th>region</th>\n",
       "      <th>charges</th>\n",
       "    </tr>\n",
       "  </thead>\n",
       "  <tbody>\n",
       "    <tr>\n",
       "      <th>0</th>\n",
       "      <td>-1.428919</td>\n",
       "      <td>-1.010519</td>\n",
       "      <td>-0.453320</td>\n",
       "      <td>1.277217</td>\n",
       "      <td>-0.908614</td>\n",
       "      <td>1.970587</td>\n",
       "      <td>1.343905</td>\n",
       "      <td>0.298584</td>\n",
       "    </tr>\n",
       "    <tr>\n",
       "      <th>1</th>\n",
       "      <td>-1.499928</td>\n",
       "      <td>0.989591</td>\n",
       "      <td>0.509621</td>\n",
       "      <td>-0.693094</td>\n",
       "      <td>-0.078767</td>\n",
       "      <td>-0.507463</td>\n",
       "      <td>0.438495</td>\n",
       "      <td>-0.953689</td>\n",
       "    </tr>\n",
       "    <tr>\n",
       "      <th>2</th>\n",
       "      <td>-0.789846</td>\n",
       "      <td>0.989591</td>\n",
       "      <td>0.383307</td>\n",
       "      <td>-0.693094</td>\n",
       "      <td>1.580926</td>\n",
       "      <td>-0.507463</td>\n",
       "      <td>0.438495</td>\n",
       "      <td>-0.728675</td>\n",
       "    </tr>\n",
       "    <tr>\n",
       "      <th>3</th>\n",
       "      <td>-2.778074</td>\n",
       "      <td>0.989591</td>\n",
       "      <td>-1.305531</td>\n",
       "      <td>-1.349865</td>\n",
       "      <td>-0.908614</td>\n",
       "      <td>-0.507463</td>\n",
       "      <td>-0.466915</td>\n",
       "      <td>0.719843</td>\n",
       "    </tr>\n",
       "    <tr>\n",
       "      <th>4</th>\n",
       "      <td>-0.505814</td>\n",
       "      <td>0.989591</td>\n",
       "      <td>-0.292556</td>\n",
       "      <td>1.277217</td>\n",
       "      <td>-0.908614</td>\n",
       "      <td>-0.507463</td>\n",
       "      <td>-0.466915</td>\n",
       "      <td>-0.776802</td>\n",
       "    </tr>\n",
       "    <tr>\n",
       "      <th>...</th>\n",
       "      <td>...</td>\n",
       "      <td>...</td>\n",
       "      <td>...</td>\n",
       "      <td>...</td>\n",
       "      <td>...</td>\n",
       "      <td>...</td>\n",
       "      <td>...</td>\n",
       "      <td>...</td>\n",
       "    </tr>\n",
       "    <tr>\n",
       "      <th>1333</th>\n",
       "      <td>0.772333</td>\n",
       "      <td>0.989591</td>\n",
       "      <td>0.050297</td>\n",
       "      <td>-0.693094</td>\n",
       "      <td>1.580926</td>\n",
       "      <td>-0.507463</td>\n",
       "      <td>-0.466915</td>\n",
       "      <td>-0.220551</td>\n",
       "    </tr>\n",
       "    <tr>\n",
       "      <th>1334</th>\n",
       "      <td>-1.499928</td>\n",
       "      <td>-1.010519</td>\n",
       "      <td>0.206139</td>\n",
       "      <td>-0.693094</td>\n",
       "      <td>-0.908614</td>\n",
       "      <td>-0.507463</td>\n",
       "      <td>-1.372326</td>\n",
       "      <td>-0.914002</td>\n",
       "    </tr>\n",
       "    <tr>\n",
       "      <th>1335</th>\n",
       "      <td>-1.499928</td>\n",
       "      <td>-1.010519</td>\n",
       "      <td>1.014878</td>\n",
       "      <td>-0.036324</td>\n",
       "      <td>-0.908614</td>\n",
       "      <td>-0.507463</td>\n",
       "      <td>0.438495</td>\n",
       "      <td>-0.961596</td>\n",
       "    </tr>\n",
       "    <tr>\n",
       "      <th>1336</th>\n",
       "      <td>-1.286903</td>\n",
       "      <td>-1.010519</td>\n",
       "      <td>-0.797813</td>\n",
       "      <td>1.277217</td>\n",
       "      <td>-0.908614</td>\n",
       "      <td>-0.507463</td>\n",
       "      <td>1.343905</td>\n",
       "      <td>-0.930362</td>\n",
       "    </tr>\n",
       "    <tr>\n",
       "      <th>1337</th>\n",
       "      <td>-0.008757</td>\n",
       "      <td>-1.010519</td>\n",
       "      <td>-0.261388</td>\n",
       "      <td>1.277217</td>\n",
       "      <td>-0.908614</td>\n",
       "      <td>1.970587</td>\n",
       "      <td>-0.466915</td>\n",
       "      <td>1.311053</td>\n",
       "    </tr>\n",
       "  </tbody>\n",
       "</table>\n",
       "<p>1338 rows × 8 columns</p>\n",
       "</div>"
      ],
      "text/plain": [
       "           age       sex       bmi   classif  children    smoker    region  \\\n",
       "0    -1.428919 -1.010519 -0.453320  1.277217 -0.908614  1.970587  1.343905   \n",
       "1    -1.499928  0.989591  0.509621 -0.693094 -0.078767 -0.507463  0.438495   \n",
       "2    -0.789846  0.989591  0.383307 -0.693094  1.580926 -0.507463  0.438495   \n",
       "3    -2.778074  0.989591 -1.305531 -1.349865 -0.908614 -0.507463 -0.466915   \n",
       "4    -0.505814  0.989591 -0.292556  1.277217 -0.908614 -0.507463 -0.466915   \n",
       "...        ...       ...       ...       ...       ...       ...       ...   \n",
       "1333  0.772333  0.989591  0.050297 -0.693094  1.580926 -0.507463 -0.466915   \n",
       "1334 -1.499928 -1.010519  0.206139 -0.693094 -0.908614 -0.507463 -1.372326   \n",
       "1335 -1.499928 -1.010519  1.014878 -0.036324 -0.908614 -0.507463  0.438495   \n",
       "1336 -1.286903 -1.010519 -0.797813  1.277217 -0.908614 -0.507463  1.343905   \n",
       "1337 -0.008757 -1.010519 -0.261388  1.277217 -0.908614  1.970587 -0.466915   \n",
       "\n",
       "       charges  \n",
       "0     0.298584  \n",
       "1    -0.953689  \n",
       "2    -0.728675  \n",
       "3     0.719843  \n",
       "4    -0.776802  \n",
       "...        ...  \n",
       "1333 -0.220551  \n",
       "1334 -0.914002  \n",
       "1335 -0.961596  \n",
       "1336 -0.930362  \n",
       "1337  1.311053  \n",
       "\n",
       "[1338 rows x 8 columns]"
      ]
     },
     "execution_count": 22,
     "metadata": {},
     "output_type": "execute_result"
    }
   ],
   "source": [
    "from sklearn.preprocessing import MinMaxScaler\n",
    "scaler=StandardScaler()\n",
    "scaled_df=pd.DataFrame(scaler.fit_transform(insurance2.to_numpy()),columns=insurance2.columns)\n",
    "scaled_df"
   ]
  },
  {
   "cell_type": "markdown",
   "id": "f0632ab1",
   "metadata": {},
   "source": [
    "# Checking correlation"
   ]
  },
  {
   "cell_type": "code",
   "execution_count": 23,
   "id": "cadc4eb4",
   "metadata": {},
   "outputs": [
    {
     "data": {
      "text/html": [
       "<div>\n",
       "<style scoped>\n",
       "    .dataframe tbody tr th:only-of-type {\n",
       "        vertical-align: middle;\n",
       "    }\n",
       "\n",
       "    .dataframe tbody tr th {\n",
       "        vertical-align: top;\n",
       "    }\n",
       "\n",
       "    .dataframe thead th {\n",
       "        text-align: right;\n",
       "    }\n",
       "</style>\n",
       "<table border=\"1\" class=\"dataframe\">\n",
       "  <thead>\n",
       "    <tr style=\"text-align: right;\">\n",
       "      <th></th>\n",
       "      <th>age</th>\n",
       "      <th>sex</th>\n",
       "      <th>bmi</th>\n",
       "      <th>classif</th>\n",
       "      <th>children</th>\n",
       "      <th>smoker</th>\n",
       "      <th>region</th>\n",
       "      <th>charges</th>\n",
       "    </tr>\n",
       "  </thead>\n",
       "  <tbody>\n",
       "    <tr>\n",
       "      <th>age</th>\n",
       "      <td>1.000000</td>\n",
       "      <td>-0.026469</td>\n",
       "      <td>0.111266</td>\n",
       "      <td>0.010557</td>\n",
       "      <td>0.047755</td>\n",
       "      <td>-0.024828</td>\n",
       "      <td>0.006771</td>\n",
       "      <td>0.294927</td>\n",
       "    </tr>\n",
       "    <tr>\n",
       "      <th>sex</th>\n",
       "      <td>-0.026469</td>\n",
       "      <td>1.000000</td>\n",
       "      <td>0.046371</td>\n",
       "      <td>-0.008234</td>\n",
       "      <td>0.017163</td>\n",
       "      <td>0.076185</td>\n",
       "      <td>0.004588</td>\n",
       "      <td>0.057292</td>\n",
       "    </tr>\n",
       "    <tr>\n",
       "      <th>bmi</th>\n",
       "      <td>0.111266</td>\n",
       "      <td>0.046371</td>\n",
       "      <td>1.000000</td>\n",
       "      <td>0.080088</td>\n",
       "      <td>0.012759</td>\n",
       "      <td>0.003750</td>\n",
       "      <td>0.157566</td>\n",
       "      <td>0.198341</td>\n",
       "    </tr>\n",
       "    <tr>\n",
       "      <th>classif</th>\n",
       "      <td>0.010557</td>\n",
       "      <td>-0.008234</td>\n",
       "      <td>0.080088</td>\n",
       "      <td>1.000000</td>\n",
       "      <td>-0.025265</td>\n",
       "      <td>-0.006269</td>\n",
       "      <td>0.014150</td>\n",
       "      <td>-0.034374</td>\n",
       "    </tr>\n",
       "    <tr>\n",
       "      <th>children</th>\n",
       "      <td>0.047755</td>\n",
       "      <td>0.017163</td>\n",
       "      <td>0.012759</td>\n",
       "      <td>-0.025265</td>\n",
       "      <td>1.000000</td>\n",
       "      <td>0.007673</td>\n",
       "      <td>0.016569</td>\n",
       "      <td>0.067998</td>\n",
       "    </tr>\n",
       "    <tr>\n",
       "      <th>smoker</th>\n",
       "      <td>-0.024828</td>\n",
       "      <td>0.076185</td>\n",
       "      <td>0.003750</td>\n",
       "      <td>-0.006269</td>\n",
       "      <td>0.007673</td>\n",
       "      <td>1.000000</td>\n",
       "      <td>-0.002181</td>\n",
       "      <td>0.787251</td>\n",
       "    </tr>\n",
       "    <tr>\n",
       "      <th>region</th>\n",
       "      <td>0.006771</td>\n",
       "      <td>0.004588</td>\n",
       "      <td>0.157566</td>\n",
       "      <td>0.014150</td>\n",
       "      <td>0.016569</td>\n",
       "      <td>-0.002181</td>\n",
       "      <td>1.000000</td>\n",
       "      <td>-0.006208</td>\n",
       "    </tr>\n",
       "    <tr>\n",
       "      <th>charges</th>\n",
       "      <td>0.294927</td>\n",
       "      <td>0.057292</td>\n",
       "      <td>0.198341</td>\n",
       "      <td>-0.034374</td>\n",
       "      <td>0.067998</td>\n",
       "      <td>0.787251</td>\n",
       "      <td>-0.006208</td>\n",
       "      <td>1.000000</td>\n",
       "    </tr>\n",
       "  </tbody>\n",
       "</table>\n",
       "</div>"
      ],
      "text/plain": [
       "               age       sex       bmi   classif  children    smoker  \\\n",
       "age       1.000000 -0.026469  0.111266  0.010557  0.047755 -0.024828   \n",
       "sex      -0.026469  1.000000  0.046371 -0.008234  0.017163  0.076185   \n",
       "bmi       0.111266  0.046371  1.000000  0.080088  0.012759  0.003750   \n",
       "classif   0.010557 -0.008234  0.080088  1.000000 -0.025265 -0.006269   \n",
       "children  0.047755  0.017163  0.012759 -0.025265  1.000000  0.007673   \n",
       "smoker   -0.024828  0.076185  0.003750 -0.006269  0.007673  1.000000   \n",
       "region    0.006771  0.004588  0.157566  0.014150  0.016569 -0.002181   \n",
       "charges   0.294927  0.057292  0.198341 -0.034374  0.067998  0.787251   \n",
       "\n",
       "            region   charges  \n",
       "age       0.006771  0.294927  \n",
       "sex       0.004588  0.057292  \n",
       "bmi       0.157566  0.198341  \n",
       "classif   0.014150 -0.034374  \n",
       "children  0.016569  0.067998  \n",
       "smoker   -0.002181  0.787251  \n",
       "region    1.000000 -0.006208  \n",
       "charges  -0.006208  1.000000  "
      ]
     },
     "execution_count": 23,
     "metadata": {},
     "output_type": "execute_result"
    }
   ],
   "source": [
    "cor=scaled_df.corr()\n",
    "cor"
   ]
  },
  {
   "cell_type": "code",
   "execution_count": 24,
   "id": "cd8bcb52",
   "metadata": {},
   "outputs": [
    {
     "data": {
      "image/png": "[encoded data removed]",
      "text/plain": [
       "<Figure size 1152x576 with 2 Axes>"
      ]
     },
     "metadata": {
      "needs_background": "light"
     },
     "output_type": "display_data"
    }
   ],
   "source": [
    "plt.figure(figsize=(16,8))\n",
    "sb.heatmap(data=cor,annot=True)\n",
    "plt.show()"
   ]
  },
  {
   "cell_type": "markdown",
   "id": "945b8a05",
   "metadata": {},
   "source": [
    "# so features which im considering are smoker which have correlation of 0.79, age which have correlation of 0.27 and last BMI have correlation of 0.2."
   ]
  },
  {
   "cell_type": "markdown",
   "id": "65956e3e",
   "metadata": {},
   "source": [
    "# Visualization of data"
   ]
  },
  {
   "cell_type": "code",
   "execution_count": 25,
   "id": "066bbb9c",
   "metadata": {},
   "outputs": [
    {
     "data": {
      "image/png": "[encoded data removed]",
      "text/plain": [
       "<Figure size 1080x360 with 3 Axes>"
      ]
     },
     "metadata": {
      "needs_background": "light"
     },
     "output_type": "display_data"
    }
   ],
   "source": [
    "plt.figure(figsize=(15,5))\n",
    "plt.suptitle('age')\n",
    "plt.subplot(131)\n",
    "sb.histplot(x = insurance['age'], color = \"red\",bins=(10)) \n",
    "plt.subplot(132)\n",
    "sb.boxplot(x = insurance['age'], color = \"brown\") \n",
    "plt.subplot(133)\n",
    "sb.kdeplot(x=insurance['age'],color='green',shade=True)\n",
    "plt.show()"
   ]
  },
  {
   "cell_type": "markdown",
   "id": "e7eda624",
   "metadata": {},
   "source": [
    "#from the graph we can see that disturbation of age which is highest in 0-50 range."
   ]
  },
  {
   "cell_type": "code",
   "execution_count": 26,
   "id": "b327e54a",
   "metadata": {},
   "outputs": [
    {
     "data": {
      "image/png": "[encoded data removed]",
      "text/plain": [
       "<Figure size 1080x360 with 3 Axes>"
      ]
     },
     "metadata": {
      "needs_background": "light"
     },
     "output_type": "display_data"
    }
   ],
   "source": [
    "plt.figure(figsize=(15,5))\n",
    "plt.suptitle('bmi')\n",
    "plt.subplot(131)\n",
    "sb.histplot(x = insurance['bmi'], color = \"red\",bins=(10)) \n",
    "plt.subplot(132)\n",
    "sb.boxplot(x = insurance['bmi'], color = \"brown\") \n",
    "plt.subplot(133)\n",
    "sb.kdeplot(x=insurance['bmi'],color='green',shade=True)\n",
    "plt.show()"
   ]
  },
  {
   "cell_type": "markdown",
   "id": "4415c513",
   "metadata": {},
   "source": [
    "#from the graph we can see that at at 30 it is on the peak. "
   ]
  },
  {
   "cell_type": "code",
   "execution_count": 27,
   "id": "8bdd6065",
   "metadata": {},
   "outputs": [
    {
     "data": {
      "image/png": "[encoded data removed]",
      "text/plain": [
       "<Figure size 1080x360 with 3 Axes>"
      ]
     },
     "metadata": {
      "needs_background": "light"
     },
     "output_type": "display_data"
    }
   ],
   "source": [
    "plt.figure(figsize=(15,5))\n",
    "plt.suptitle('children')\n",
    "plt.subplot(131)\n",
    "sb.histplot(x = insurance['children'], color = \"red\",bins=(10)) \n",
    "plt.subplot(132)\n",
    "sb.boxplot(x = insurance['children'], color = \"brown\") \n",
    "plt.subplot(133)\n",
    "sb.kdeplot(x=insurance['children'],color='green',shade=True)\n",
    "plt.show()"
   ]
  },
  {
   "cell_type": "markdown",
   "id": "253f9c05",
   "metadata": {},
   "source": [
    "#from the graph we can see that 0 bin has the highest no of points."
   ]
  },
  {
   "cell_type": "code",
   "execution_count": 28,
   "id": "d3a392e6",
   "metadata": {},
   "outputs": [
    {
     "data": {
      "image/png": "[encoded data removed]",
      "text/plain": [
       "<Figure size 1080x360 with 3 Axes>"
      ]
     },
     "metadata": {
      "needs_background": "light"
     },
     "output_type": "display_data"
    }
   ],
   "source": [
    "plt.figure(figsize=(15,5))\n",
    "plt.suptitle('charges')\n",
    "plt.subplot(131)\n",
    "sb.histplot(x = insurance['charges'], color = \"red\",bins=(10)) \n",
    "plt.subplot(132)\n",
    "sb.boxplot(x = insurance['charges'], color = \"brown\") \n",
    "plt.subplot(133)\n",
    "sb.kdeplot(x=insurance['charges'],color='green',shade=True)\n",
    "plt.show()"
   ]
  },
  {
   "cell_type": "markdown",
   "id": "f032082f",
   "metadata": {},
   "source": [
    "#from the graph we can see that from point 0 to 10000 it has the highest data point."
   ]
  },
  {
   "cell_type": "code",
   "execution_count": 29,
   "id": "9f286eee",
   "metadata": {
    "scrolled": false
   },
   "outputs": [
    {
     "data": {
      "image/png": "[encoded data removed]",
      "text/plain": [
       "<Figure size 1152x576 with 1 Axes>"
      ]
     },
     "metadata": {},
     "output_type": "display_data"
    }
   ],
   "source": [
    "perc=insurance['sex'].value_counts()\n",
    "plt.figure(figsize=(16,8))\n",
    "lbl=list(insurance['sex'].value_counts().index)\n",
    "plt.pie(perc,labels=lbl,autopct='%.2f%%')\n",
    "plt.show()\n"
   ]
  },
  {
   "cell_type": "markdown",
   "id": "02846c21",
   "metadata": {},
   "source": [
    "#from the graph we can see that male and female are little equally distribution "
   ]
  },
  {
   "cell_type": "code",
   "execution_count": 30,
   "id": "0d72483d",
   "metadata": {},
   "outputs": [
    {
     "data": {
      "image/png": "[encoded data removed]",
      "text/plain": [
       "<Figure size 1152x576 with 1 Axes>"
      ]
     },
     "metadata": {
      "needs_background": "light"
     },
     "output_type": "display_data"
    }
   ],
   "source": [
    "plt.figure(figsize=(16,8))\n",
    "sb.countplot(x=insurance['classif'],ec='black',palette='gist_rainbow')\n",
    "plt.show()"
   ]
  },
  {
   "cell_type": "markdown",
   "id": "e2bad905",
   "metadata": {},
   "source": [
    "#from the graph we can see that OB1 is the highest as compare to others"
   ]
  },
  {
   "cell_type": "code",
   "execution_count": 31,
   "id": "6aa420bc",
   "metadata": {},
   "outputs": [
    {
     "data": {
      "image/png": "[encoded data removed]",
      "text/plain": [
       "<Figure size 1152x576 with 1 Axes>"
      ]
     },
     "metadata": {
      "needs_background": "light"
     },
     "output_type": "display_data"
    }
   ],
   "source": [
    "plt.figure(figsize=(16,8))\n",
    "sb.countplot(x=insurance['smoker'],ec='black',palette='gist_rainbow')\n",
    "plt.show()"
   ]
  },
  {
   "cell_type": "markdown",
   "id": "233698c3",
   "metadata": {},
   "source": [
    "#from the graph we can see that non-smoker are more than smoker."
   ]
  },
  {
   "cell_type": "code",
   "execution_count": 32,
   "id": "48097868",
   "metadata": {
    "scrolled": false
   },
   "outputs": [
    {
     "data": {
      "image/png": "[encoded data removed]",
      "text/plain": [
       "<Figure size 1152x576 with 1 Axes>"
      ]
     },
     "metadata": {},
     "output_type": "display_data"
    }
   ],
   "source": [
    "perc=insurance['region'].value_counts()\n",
    "plt.figure(figsize=(16,8))\n",
    "lbl=list(insurance['region'].value_counts().index)\n",
    "plt.pie(perc,labels=lbl,autopct='%.2f%%')\n",
    "plt.show()\n"
   ]
  },
  {
   "cell_type": "markdown",
   "id": "f3fe0072",
   "metadata": {},
   "source": [
    "#from the pie-chart we can see that southeast region is highest among others."
   ]
  },
  {
   "cell_type": "code",
   "execution_count": 33,
   "id": "2530f0f6",
   "metadata": {
    "scrolled": false
   },
   "outputs": [
    {
     "data": {
      "image/png": "[encoded data removed]",
      "text/plain": [
       "<Figure size 1152x576 with 1 Axes>"
      ]
     },
     "metadata": {
      "needs_background": "light"
     },
     "output_type": "display_data"
    }
   ],
   "source": [
    "plt.figure(figsize=(16,8))\n",
    "sb.boxplot(data=insurance,x=insurance['charges'],y=insurance['classif'])\n",
    "plt.show()"
   ]
  },
  {
   "cell_type": "markdown",
   "id": "fcdaa13f",
   "metadata": {},
   "source": [
    "#from the graph we can see that OB2 is highest in charges among others."
   ]
  },
  {
   "cell_type": "code",
   "execution_count": 34,
   "id": "6ecf0a24",
   "metadata": {
    "scrolled": false
   },
   "outputs": [
    {
     "data": {
      "image/png": "[encoded data removed]",
      "text/plain": [
       "<Figure size 1152x576 with 1 Axes>"
      ]
     },
     "metadata": {
      "needs_background": "light"
     },
     "output_type": "display_data"
    }
   ],
   "source": [
    "plt.figure(figsize=(16,8))\n",
    "sb.boxplot(data=insurance,x=insurance['charges'],y=insurance['smoker'])\n",
    "plt.show()"
   ]
  },
  {
   "cell_type": "markdown",
   "id": "088c8162",
   "metadata": {},
   "source": [
    "#from the graph we can see that smoker are more in charges as compare to others."
   ]
  },
  {
   "cell_type": "code",
   "execution_count": 35,
   "id": "b7f0b218",
   "metadata": {
    "scrolled": false
   },
   "outputs": [
    {
     "data": {
      "image/png": "[encoded data removed]",
      "text/plain": [
       "<Figure size 1152x576 with 1 Axes>"
      ]
     },
     "metadata": {
      "needs_background": "light"
     },
     "output_type": "display_data"
    }
   ],
   "source": [
    "plt.figure(figsize=(16,8))\n",
    "sb.boxplot(data=insurance,x=insurance['charges'],y=insurance['sex'])\n",
    "plt.show()"
   ]
  },
  {
   "cell_type": "markdown",
   "id": "04e766bd",
   "metadata": {},
   "source": [
    "#from the graph we can see that male is more as compare to female considering charges."
   ]
  },
  {
   "cell_type": "code",
   "execution_count": 36,
   "id": "1d6eae34",
   "metadata": {
    "scrolled": false
   },
   "outputs": [
    {
     "data": {
      "image/png": "[encoded data removed]",
      "text/plain": [
       "<Figure size 1152x576 with 1 Axes>"
      ]
     },
     "metadata": {
      "needs_background": "light"
     },
     "output_type": "display_data"
    }
   ],
   "source": [
    "plt.figure(figsize=(16,8))\n",
    "sb.boxplot(data=insurance,y=insurance['charges'],x=insurance['region'])\n",
    "plt.show()"
   ]
  },
  {
   "cell_type": "markdown",
   "id": "4d1b3015",
   "metadata": {},
   "source": [
    "#From the graph we can see that southeast region is highest considering charges among others."
   ]
  },
  {
   "cell_type": "markdown",
   "id": "c8c944ab",
   "metadata": {},
   "source": [
    "# Splitting the data into train and test."
   ]
  },
  {
   "cell_type": "code",
   "execution_count": 37,
   "id": "1d19197b",
   "metadata": {},
   "outputs": [],
   "source": [
    "from sklearn.model_selection import train_test_split"
   ]
  },
  {
   "cell_type": "code",
   "execution_count": 38,
   "id": "e9735712",
   "metadata": {},
   "outputs": [],
   "source": [
    "results, names = list(), list()"
   ]
  },
  {
   "cell_type": "code",
   "execution_count": 39,
   "id": "27ad07d3",
   "metadata": {},
   "outputs": [],
   "source": [
    "x=scaled_df[['age','bmi','smoker','children']]\n",
    "y=scaled_df.charges"
   ]
  },
  {
   "cell_type": "code",
   "execution_count": 40,
   "id": "89e86e54",
   "metadata": {},
   "outputs": [
    {
     "name": "stdout",
     "output_type": "stream",
     "text": [
      "(936, 4) (936,) (402, 4) (402,)\n"
     ]
    }
   ],
   "source": [
    "x_train,x_test,y_train,y_test=train_test_split(x,y,test_size=0.3,random_state=30)\n",
    "print(x_train.shape,y_train.shape,x_test.shape,y_test.shape)"
   ]
  },
  {
   "cell_type": "markdown",
   "id": "834c7048",
   "metadata": {},
   "source": [
    "# MODELING "
   ]
  },
  {
   "cell_type": "markdown",
   "id": "5390ad1f",
   "metadata": {},
   "source": [
    "# USING LINEAR REGRESSION"
   ]
  },
  {
   "cell_type": "code",
   "execution_count": 41,
   "id": "6bdbd641",
   "metadata": {},
   "outputs": [],
   "source": [
    "model=LinearRegression().fit(x_train,y_train)"
   ]
  },
  {
   "cell_type": "code",
   "execution_count": 42,
   "id": "f67650f5",
   "metadata": {},
   "outputs": [
    {
     "name": "stdout",
     "output_type": "stream",
     "text": [
      "Co-efficient of determination (R^2)  : 0.7425796681983834\n",
      "Intercept = -0.004496261102380927\n",
      "slope = [0.31099743 0.15748369 0.78678671 0.04121699]\n"
     ]
    }
   ],
   "source": [
    "coeff_of_det=model.score(x_train,y_train)\n",
    "print(\"Co-efficient of determination (R^2)  :\", coeff_of_det)\n",
    "print('Intercept =',model.intercept_)# c\n",
    "print('slope =',model.coef_  )# m"
   ]
  },
  {
   "cell_type": "code",
   "execution_count": 43,
   "id": "a374bc5a",
   "metadata": {
    "scrolled": true
   },
   "outputs": [
    {
     "data": {
      "text/plain": [
       "array([ 1.82516269e+00, -5.89451816e-01, -5.90122685e-01,  1.08636417e+00,\n",
       "       -8.99939198e-04, -5.34300523e-01, -6.88698072e-01, -2.69491227e-01,\n",
       "        1.66811497e+00, -1.36694360e-01, -4.13704224e-01, -2.32489702e-01,\n",
       "        1.82520441e+00, -1.24398042e-01, -9.63575345e-01,  1.85960820e+00,\n",
       "       -8.88508264e-02, -3.13803809e-01,  1.29960656e+00, -1.76295032e-01,\n",
       "       -9.58671824e-01, -3.57769601e-01, -4.38916004e-01, -1.78346771e-01,\n",
       "        1.66990837e+00,  2.14269903e+00,  1.23014695e-01, -7.94311347e-01,\n",
       "       -1.66367229e-01,  1.10909280e-01, -9.29406589e-01,  1.47828597e+00,\n",
       "       -9.56237572e-01,  1.30306740e-01, -2.57409144e-02, -3.35191278e-01,\n",
       "       -9.11410007e-01, -4.99985885e-01, -1.01757410e+00, -3.88737376e-01,\n",
       "       -5.05472934e-01,  1.70948562e+00, -8.67894168e-01,  8.41941648e-02,\n",
       "       -2.25630301e-01,  1.43137094e+00, -6.30172603e-01, -8.18903096e-01,\n",
       "       -8.41048177e-01, -6.49761674e-01, -1.56457732e-01, -5.58353992e-03,\n",
       "       -8.39923265e-02, -9.61141093e-01, -1.65075512e-01, -4.58595225e-01,\n",
       "        1.52088930e+00, -1.51078559e+00, -6.62351010e-03, -6.96412649e-01,\n",
       "        1.80437049e-01, -1.51846574e-01, -1.64113875e-01, -4.21263621e-01,\n",
       "       -1.11574455e+00, -3.97502743e-01, -2.59518294e-01, -9.73712465e-01,\n",
       "       -8.28831896e-01,  1.65184790e-01, -1.75331690e-01, -9.12045861e-01,\n",
       "       -1.05312802e+00, -3.03835879e-01,  2.66091863e-01, -1.16499567e+00,\n",
       "       -2.70160293e-02, -2.98776471e-01,  1.48390449e+00, -7.62490101e-01,\n",
       "       -1.02002336e+00, -1.83416183e-01, -3.20678923e-01,  1.47890852e+00,\n",
       "       -1.00930211e+00,  2.84519386e-01, -2.86745203e-01,  3.32044549e-01,\n",
       "       -3.14911219e-01, -1.78450333e-01,  8.95943627e-02,  6.19649326e-02,\n",
       "        1.13668198e+00, -1.67152263e-01,  1.46459718e+00, -6.05303209e-01,\n",
       "       -2.49701249e-01, -9.55103446e-01, -5.19609971e-01,  1.85965322e+00,\n",
       "        1.76771802e+00, -3.64930662e-01, -2.55188298e-01, -4.22666203e-01,\n",
       "        1.63686873e+00,  1.08423669e+00, -5.06214543e-01,  1.90845169e+00,\n",
       "        1.72178694e+00, -9.00827936e-01, -2.12907338e-01, -5.44469361e-01,\n",
       "       -1.00823472e+00,  1.24781202e+00, -6.16153628e-01, -7.62556834e-01,\n",
       "       -2.37883328e-02, -2.71870454e-01, -2.47377863e-01,  1.45579009e-01,\n",
       "       -7.09273085e-01, -6.80458899e-02,  1.90069479e+00,  7.40653456e-02,\n",
       "        1.34926690e+00, -2.05423683e-01,  4.47768023e-02, -3.49418465e-01,\n",
       "        1.50597783e+00, -9.48227360e-02, -1.68752346e-01, -6.15135261e-01,\n",
       "        1.73074910e+00,  1.17354432e+00, -8.76041304e-02, -8.30156037e-01,\n",
       "        2.28892134e+00,  9.92704013e-01, -1.24870705e-01, -5.58079815e-01,\n",
       "       -6.05872463e-02, -2.47402874e-01, -7.77267396e-01,  2.02470958e+00,\n",
       "       -4.49749821e-01, -1.76244302e-01, -5.67865143e-01, -8.16847351e-01,\n",
       "       -2.64423519e-01,  1.60922941e+00,  2.22030321e-01, -5.29472037e-01,\n",
       "       -1.90732243e-01, -5.51394498e-01, -3.25867502e-01, -4.15309419e-01,\n",
       "       -6.88181386e-01, -5.07852077e-02,  3.70017606e-01, -6.59246936e-01,\n",
       "       -1.86187220e-01,  1.53681914e+00,  7.93206581e-02, -2.61957549e-01,\n",
       "        1.55746849e-01,  1.73005828e-01,  1.78590110e+00, -4.31127390e-01,\n",
       "       -4.82766037e-01, -9.04330578e-01, -3.73166039e-01, -1.21953785e-01,\n",
       "       -6.08114265e-01, -6.74183416e-01,  1.65080427e+00, -4.97717524e-01,\n",
       "       -7.94628830e-01, -2.48292776e-01,  1.16079553e-01,  1.41640115e+00,\n",
       "       -1.93705891e-01,  7.56838427e-02, -9.83746131e-01, -1.06176081e+00,\n",
       "        2.15012024e+00,  1.23593923e+00,  1.14280718e+00, -5.22340990e-01,\n",
       "        1.49898685e+00,  1.44413165e-01, -1.10346824e+00, -2.86911801e-01,\n",
       "        5.47280216e-02, -8.54633466e-02, -9.46395515e-01, -6.73241813e-02,\n",
       "        1.96592513e-01,  1.52012098e+00,  1.43273680e+00, -6.34794364e-01,\n",
       "       -2.39995070e-01, -8.22654076e-01, -4.71955637e-01, -4.84572736e-01,\n",
       "        1.20183792e+00, -9.99682673e-01, -6.89244773e-01,  1.97869105e+00,\n",
       "        1.85693721e+00,  1.96754816e+00, -5.58989019e-01, -4.87996338e-01,\n",
       "        2.15629206e+00, -5.19654992e-01, -6.30392523e-01,  2.07762483e+00,\n",
       "       -6.23645583e-01, -8.65414895e-01,  3.24560894e-01,  1.28140006e+00,\n",
       "       -2.52541430e-01,  2.08986112e+00, -7.52677939e-02, -9.26776431e-01,\n",
       "       -8.50744352e-01, -2.86636040e-01, -2.98736453e-01, -4.58072539e-01,\n",
       "       -4.55819185e-01, -8.43316538e-01, -3.20259093e-01, -1.85759578e-01,\n",
       "       -2.66478557e-01, -1.64255487e-02, -2.86359282e-01,  1.55487316e+00,\n",
       "        1.41959131e+00, -1.57992675e-01, -4.61009468e-01,  1.25787840e+00,\n",
       "        2.95230628e-01,  1.28039086e-01, -3.50180082e-01, -6.13406007e-01,\n",
       "        2.37469187e-01, -1.80881069e-01, -9.70938129e-01, -7.00736047e-01,\n",
       "       -6.51939177e-01,  2.02003712e-01, -6.80227171e-01, -1.88748940e-01,\n",
       "        4.46492253e-02,  1.96023792e+00,  1.02293018e+00, -7.06667341e-01,\n",
       "       -9.03301473e-02, -1.39118608e-01, -1.56328451e-01,  1.15298102e+00,\n",
       "       -2.73940499e-01,  1.77441090e-01, -6.22503048e-01, -1.02490588e-01,\n",
       "        1.82354615e-01, -6.20642320e-01, -6.32748396e-02, -7.53056565e-01,\n",
       "       -1.36775213e-01, -7.91797059e-01, -5.16652435e-01,  2.58270825e-01,\n",
       "       -7.35912458e-01, -4.21449521e-01, -1.39561257e-01, -3.22663222e-01,\n",
       "       -4.09694901e-01,  1.65555190e+00, -7.94261325e-01, -9.83805117e-02,\n",
       "       -2.72657083e-01,  1.43757029e+00, -4.95765649e-01, -9.71578303e-02,\n",
       "        3.70940222e-01, -1.12131737e-01,  1.06257506e-01, -2.10428065e-01,\n",
       "        9.78597588e-01, -9.39072750e-01, -5.99040532e-01, -2.37474075e-01,\n",
       "        1.56269760e+00,  1.18487141e+00, -7.87827754e-01, -1.14519069e+00,\n",
       "       -3.75120325e-01,  1.21211294e-01, -4.24957165e-01, -3.62283903e-01,\n",
       "       -1.61094499e-01, -1.56560188e-01, -7.10801432e-01,  1.37601203e+00,\n",
       "       -6.49514929e-01, -1.44062146e-01, -1.70509022e-01,  1.05763286e-02,\n",
       "        7.42462439e-02, -8.95192812e-01, -7.54386877e-02,  1.12353989e+00,\n",
       "        1.42454592e-02, -5.04793546e-01, -7.83056812e-01, -9.83497793e-01,\n",
       "       -5.88719215e-01,  1.06168352e-01, -6.25494005e-01,  9.00222113e-01,\n",
       "       -6.49625796e-01, -3.64875637e-01, -3.43064042e-01,  2.23448434e+00,\n",
       "        1.11685028e+00,  4.29753939e-01,  2.44125929e-02, -6.57144467e-01,\n",
       "        1.48754801e+00,  1.52390090e-01,  2.13926312e+00, -2.33130558e-01,\n",
       "       -7.20643488e-01,  1.29513405e-01,  1.17145757e+00,  6.44091893e-02,\n",
       "       -7.48271215e-01, -6.86655631e-01, -1.14666851e-01, -8.51226023e-01,\n",
       "       -6.20345553e-01,  2.07264734e-01, -4.99845005e-01, -9.00091330e-01,\n",
       "       -7.56810953e-01,  1.66419310e+00, -2.37163298e-01,  1.71840919e-02,\n",
       "       -2.43975376e-01,  9.52444940e-02, -3.44469924e-01,  1.90383993e+00,\n",
       "       -2.30193031e-01, -6.84010466e-01, -3.13351155e-01, -1.00483953e+00,\n",
       "       -7.37863336e-01, -7.77870850e-02,  1.66120644e+00, -7.25744618e-01,\n",
       "       -3.45325697e-01,  6.89234910e-02,  1.68277210e+00, -7.84580157e-01,\n",
       "       -6.09874349e-01, -3.29610181e-01,  1.35145282e+00,  1.68756316e+00,\n",
       "        3.05765761e-03, -7.72665644e-01, -4.70680631e-01, -9.52386700e-02,\n",
       "       -7.77111509e-01, -7.79545761e-01,  1.46201204e+00,  3.24379995e-01,\n",
       "       -6.37419519e-01,  6.53200970e-02, -9.51969479e-02,  1.12558663e+00,\n",
       "       -7.50298940e-01,  1.66130889e+00, -6.49826703e-01, -5.07615422e-01,\n",
       "       -6.04063219e-01, -6.37384503e-01, -7.18807772e-01,  1.27551649e+00,\n",
       "        4.12507441e-02, -7.39095025e-01, -6.13128651e-01, -2.70073650e-01,\n",
       "       -8.27820942e-01, -8.33534509e-01, -8.54326142e-01, -1.01268058e+00,\n",
       "       -1.65340453e-01,  4.18531765e-02,  1.96465636e+00, -1.14299977e+00,\n",
       "       -6.74384324e-01,  1.76766812e-01])"
      ]
     },
     "execution_count": 43,
     "metadata": {},
     "output_type": "execute_result"
    }
   ],
   "source": [
    "y_predict=model.predict(x_test) # y_actual=y_test\n",
    "y_predict"
   ]
  },
  {
   "cell_type": "code",
   "execution_count": 44,
   "id": "d09cd2b6",
   "metadata": {},
   "outputs": [],
   "source": [
    "data = pd.DataFrame()\n",
    "data['actual_y'] = y_test\n",
    "data['predicted_y'] = y_predict"
   ]
  },
  {
   "cell_type": "code",
   "execution_count": 45,
   "id": "7c2343f5",
   "metadata": {},
   "outputs": [
    {
     "data": {
      "text/html": [
       "<div>\n",
       "<style scoped>\n",
       "    .dataframe tbody tr th:only-of-type {\n",
       "        vertical-align: middle;\n",
       "    }\n",
       "\n",
       "    .dataframe tbody tr th {\n",
       "        vertical-align: top;\n",
       "    }\n",
       "\n",
       "    .dataframe thead th {\n",
       "        text-align: right;\n",
       "    }\n",
       "</style>\n",
       "<table border=\"1\" class=\"dataframe\">\n",
       "  <thead>\n",
       "    <tr style=\"text-align: right;\">\n",
       "      <th></th>\n",
       "      <th>actual_y</th>\n",
       "      <th>predicted_y</th>\n",
       "    </tr>\n",
       "  </thead>\n",
       "  <tbody>\n",
       "    <tr>\n",
       "      <th>338</th>\n",
       "      <td>2.366586</td>\n",
       "      <td>1.825163</td>\n",
       "    </tr>\n",
       "    <tr>\n",
       "      <th>620</th>\n",
       "      <td>-0.793944</td>\n",
       "      <td>-0.589452</td>\n",
       "    </tr>\n",
       "    <tr>\n",
       "      <th>965</th>\n",
       "      <td>-0.704150</td>\n",
       "      <td>-0.590123</td>\n",
       "    </tr>\n",
       "    <tr>\n",
       "      <th>128</th>\n",
       "      <td>1.607847</td>\n",
       "      <td>1.086364</td>\n",
       "    </tr>\n",
       "    <tr>\n",
       "      <th>329</th>\n",
       "      <td>-0.340825</td>\n",
       "      <td>-0.000900</td>\n",
       "    </tr>\n",
       "    <tr>\n",
       "      <th>...</th>\n",
       "      <td>...</td>\n",
       "      <td>...</td>\n",
       "    </tr>\n",
       "    <tr>\n",
       "      <th>659</th>\n",
       "      <td>0.092848</td>\n",
       "      <td>0.041853</td>\n",
       "    </tr>\n",
       "    <tr>\n",
       "      <th>893</th>\n",
       "      <td>2.555224</td>\n",
       "      <td>1.964656</td>\n",
       "    </tr>\n",
       "    <tr>\n",
       "      <th>584</th>\n",
       "      <td>-0.993567</td>\n",
       "      <td>-1.143000</td>\n",
       "    </tr>\n",
       "    <tr>\n",
       "      <th>1290</th>\n",
       "      <td>-0.506921</td>\n",
       "      <td>-0.674384</td>\n",
       "    </tr>\n",
       "    <tr>\n",
       "      <th>302</th>\n",
       "      <td>-0.083013</td>\n",
       "      <td>0.176767</td>\n",
       "    </tr>\n",
       "  </tbody>\n",
       "</table>\n",
       "<p>402 rows × 2 columns</p>\n",
       "</div>"
      ],
      "text/plain": [
       "      actual_y  predicted_y\n",
       "338   2.366586     1.825163\n",
       "620  -0.793944    -0.589452\n",
       "965  -0.704150    -0.590123\n",
       "128   1.607847     1.086364\n",
       "329  -0.340825    -0.000900\n",
       "...        ...          ...\n",
       "659   0.092848     0.041853\n",
       "893   2.555224     1.964656\n",
       "584  -0.993567    -1.143000\n",
       "1290 -0.506921    -0.674384\n",
       "302  -0.083013     0.176767\n",
       "\n",
       "[402 rows x 2 columns]"
      ]
     },
     "execution_count": 45,
     "metadata": {},
     "output_type": "execute_result"
    }
   ],
   "source": [
    "data"
   ]
  },
  {
   "cell_type": "code",
   "execution_count": 46,
   "id": "3aa07700",
   "metadata": {},
   "outputs": [
    {
     "name": "stdout",
     "output_type": "stream",
     "text": [
      "MSE = 0.33526045809897953\n",
      "RMSE = 0.49164364802120425\n",
      "MAE = 0.24171347663959775\n"
     ]
    }
   ],
   "source": [
    "MSE=mean_absolute_error(y_test,y_predict)\n",
    "MAE=mean_squared_error(y_test,y_predict)\n",
    "RMSE=mean_squared_error(y_test,y_predict,squared=False)\n",
    "print('MSE =',MSE)\n",
    "print('RMSE =',RMSE)\n",
    "print('MAE =',MAE)\n",
    "                        "
   ]
  },
  {
   "cell_type": "markdown",
   "id": "28150287",
   "metadata": {},
   "source": [
    "# Linear Regression with one independent features"
   ]
  },
  {
   "cell_type": "code",
   "execution_count": 64,
   "id": "554e037b",
   "metadata": {},
   "outputs": [],
   "source": [
    "x1=scaled_df['smoker']\n",
    "y=scaled_df.charges"
   ]
  },
  {
   "cell_type": "code",
   "execution_count": 65,
   "id": "d2ca47de",
   "metadata": {},
   "outputs": [],
   "source": [
    "x1_train,x1_test,y_train,y_test=train_test_split(x1,y,test_size=0.3,random_state=10)"
   ]
  },
  {
   "cell_type": "code",
   "execution_count": 66,
   "id": "7408b2d5",
   "metadata": {},
   "outputs": [],
   "source": [
    "x1_train=x1_train.values.reshape(-1,1)\n",
    "y_train=y_train.values.reshape(-1,1)\n",
    "x1_test=x1_test.values.reshape(-1,1)"
   ]
  },
  {
   "cell_type": "code",
   "execution_count": 67,
   "id": "128413d9",
   "metadata": {},
   "outputs": [
    {
     "data": {
      "text/plain": [
       "(936, 1)"
      ]
     },
     "execution_count": 67,
     "metadata": {},
     "output_type": "execute_result"
    }
   ],
   "source": [
    "x1_train.shape"
   ]
  },
  {
   "cell_type": "code",
   "execution_count": 68,
   "id": "22528cfe",
   "metadata": {},
   "outputs": [
    {
     "data": {
      "text/plain": [
       "(402, 1)"
      ]
     },
     "execution_count": 68,
     "metadata": {},
     "output_type": "execute_result"
    }
   ],
   "source": [
    "x1_test.shape"
   ]
  },
  {
   "cell_type": "code",
   "execution_count": 69,
   "id": "a37166cd",
   "metadata": {},
   "outputs": [
    {
     "data": {
      "text/plain": [
       "(936, 1)"
      ]
     },
     "execution_count": 69,
     "metadata": {},
     "output_type": "execute_result"
    }
   ],
   "source": [
    "y_train.shape"
   ]
  },
  {
   "cell_type": "code",
   "execution_count": 70,
   "id": "12e8e2e8",
   "metadata": {},
   "outputs": [
    {
     "data": {
      "text/plain": [
       "(402,)"
      ]
     },
     "execution_count": 70,
     "metadata": {},
     "output_type": "execute_result"
    }
   ],
   "source": [
    "y_test.shape"
   ]
  },
  {
   "cell_type": "code",
   "execution_count": 71,
   "id": "2528d620",
   "metadata": {},
   "outputs": [],
   "source": [
    "mo1=LinearRegression().fit(x1_train,y_train)          "
   ]
  },
  {
   "cell_type": "code",
   "execution_count": 87,
   "id": "d6a0f694",
   "metadata": {},
   "outputs": [
    {
     "name": "stdout",
     "output_type": "stream",
     "text": [
      "Intercept of line (C)                : [0.01187633]\n",
      "Co-efficiient of the line (M)        : [[0.80341076]]\n",
      "Co-efficient of determination (R^2)  : 0.6189465597859612\n"
     ]
    }
   ],
   "source": [
    "c=mo1.intercept_                             # intercept of the line = C\n",
    "m=mo1.coef_                                  # co-efficient of the line= M\n",
    "coeff_of_dete=mo1.score(x1_train,y_train)    # co-efficient of determination(R^2)\n",
    "print(\"Intercept of line (C)                :\", c)\n",
    "print(\"Co-efficiient of the line (M)        :\", m)\n",
    "print(\"Co-efficient of determination (R^2)  :\", coeff_of_dete)"
   ]
  },
  {
   "cell_type": "code",
   "execution_count": 73,
   "id": "816f0b1f",
   "metadata": {},
   "outputs": [],
   "source": [
    "y_pred=mo1.predict(x1_test)"
   ]
  },
  {
   "cell_type": "code",
   "execution_count": 74,
   "id": "10df28ad",
   "metadata": {},
   "outputs": [
    {
     "data": {
      "text/html": [
       "<div>\n",
       "<style scoped>\n",
       "    .dataframe tbody tr th:only-of-type {\n",
       "        vertical-align: middle;\n",
       "    }\n",
       "\n",
       "    .dataframe tbody tr th {\n",
       "        vertical-align: top;\n",
       "    }\n",
       "\n",
       "    .dataframe thead th {\n",
       "        text-align: right;\n",
       "    }\n",
       "</style>\n",
       "<table border=\"1\" class=\"dataframe\">\n",
       "  <thead>\n",
       "    <tr style=\"text-align: right;\">\n",
       "      <th></th>\n",
       "      <th>actual</th>\n",
       "      <th>predict</th>\n",
       "    </tr>\n",
       "  </thead>\n",
       "  <tbody>\n",
       "    <tr>\n",
       "      <th>7</th>\n",
       "      <td>-0.494728</td>\n",
       "      <td>-0.395825</td>\n",
       "    </tr>\n",
       "    <tr>\n",
       "      <th>999</th>\n",
       "      <td>-0.661073</td>\n",
       "      <td>-0.395825</td>\n",
       "    </tr>\n",
       "    <tr>\n",
       "      <th>1209</th>\n",
       "      <td>-0.076267</td>\n",
       "      <td>-0.395825</td>\n",
       "    </tr>\n",
       "    <tr>\n",
       "      <th>491</th>\n",
       "      <td>0.928725</td>\n",
       "      <td>-0.395825</td>\n",
       "    </tr>\n",
       "    <tr>\n",
       "      <th>625</th>\n",
       "      <td>-0.787573</td>\n",
       "      <td>-0.395825</td>\n",
       "    </tr>\n",
       "    <tr>\n",
       "      <th>...</th>\n",
       "      <td>...</td>\n",
       "      <td>...</td>\n",
       "    </tr>\n",
       "    <tr>\n",
       "      <th>854</th>\n",
       "      <td>0.895172</td>\n",
       "      <td>1.595067</td>\n",
       "    </tr>\n",
       "    <tr>\n",
       "      <th>554</th>\n",
       "      <td>0.380693</td>\n",
       "      <td>-0.395825</td>\n",
       "    </tr>\n",
       "    <tr>\n",
       "      <th>1278</th>\n",
       "      <td>0.759294</td>\n",
       "      <td>1.595067</td>\n",
       "    </tr>\n",
       "    <tr>\n",
       "      <th>374</th>\n",
       "      <td>-0.981282</td>\n",
       "      <td>-0.395825</td>\n",
       "    </tr>\n",
       "    <tr>\n",
       "      <th>6</th>\n",
       "      <td>-0.415500</td>\n",
       "      <td>-0.395825</td>\n",
       "    </tr>\n",
       "  </tbody>\n",
       "</table>\n",
       "<p>402 rows × 2 columns</p>\n",
       "</div>"
      ],
      "text/plain": [
       "        actual   predict\n",
       "7    -0.494728 -0.395825\n",
       "999  -0.661073 -0.395825\n",
       "1209 -0.076267 -0.395825\n",
       "491   0.928725 -0.395825\n",
       "625  -0.787573 -0.395825\n",
       "...        ...       ...\n",
       "854   0.895172  1.595067\n",
       "554   0.380693 -0.395825\n",
       "1278  0.759294  1.595067\n",
       "374  -0.981282 -0.395825\n",
       "6    -0.415500 -0.395825\n",
       "\n",
       "[402 rows x 2 columns]"
      ]
     },
     "execution_count": 74,
     "metadata": {},
     "output_type": "execute_result"
    }
   ],
   "source": [
    "df=pd.DataFrame()\n",
    "df['actual']=y_test\n",
    "df['predict']=y_pred\n",
    "df"
   ]
  },
  {
   "cell_type": "code",
   "execution_count": 75,
   "id": "6502f5ee",
   "metadata": {},
   "outputs": [
    {
     "name": "stdout",
     "output_type": "stream",
     "text": [
      "Mean squared error        : 0.3369203127368959\n",
      "Mean absolute error       : 0.44289493184319384\n",
      "Root mean squared error   : 0.5804483721545749\n"
     ]
    }
   ],
   "source": [
    "mse1=mean_squared_error(y_test,y_pred)                    # mean squared error\n",
    "mae1= mean_absolute_error(y_test,y_pred)                  # mean absolute error\n",
    "rmse1=mean_squared_error(y_test,y_pred,squared=False)      # root mean squared error\n",
    "print(\"Mean squared error        :\",mse1)\n",
    "print(\"Mean absolute error       :\",mae1)\n",
    "print(\"Root mean squared error   :\",rmse1)"
   ]
  },
  {
   "cell_type": "markdown",
   "id": "b734b868",
   "metadata": {},
   "source": [
    "# Linear Regression with two independent features"
   ]
  },
  {
   "cell_type": "code",
   "execution_count": 77,
   "id": "722ba87a",
   "metadata": {},
   "outputs": [],
   "source": [
    "x2=scaled_df[['smoker','age']]\n",
    "y=scaled_df.charges"
   ]
  },
  {
   "cell_type": "code",
   "execution_count": 78,
   "id": "291bbaf1",
   "metadata": {},
   "outputs": [],
   "source": [
    "x2_train,x2_test,y_train,y_test=train_test_split(x2,y,test_size=0.3,random_state=10)"
   ]
  },
  {
   "cell_type": "code",
   "execution_count": 79,
   "id": "9cd9042b",
   "metadata": {},
   "outputs": [],
   "source": [
    "mo2=LinearRegression().fit(x2_train,y_train)          "
   ]
  },
  {
   "cell_type": "code",
   "execution_count": 83,
   "id": "4f4238dd",
   "metadata": {},
   "outputs": [
    {
     "name": "stdout",
     "output_type": "stream",
     "text": [
      "Intercept of line (C)                : 0.010523476526002551\n",
      "Co-efficiient of the line (M)        : [0.80845991 0.33476029]\n",
      "Co-efficient of determination (R^2)  : 0.7282582400313211\n"
     ]
    }
   ],
   "source": [
    "c2=mo2.intercept_                             # intercept of the line = C\n",
    "m2=mo2.coef_                                  # co-efficient of the line= M\n",
    "coeff_of_deter=mo2.score(x2_train,y_train)    # co-efficient of determination(R^2)\n",
    "print(\"Intercept of line (C)                :\", c2)\n",
    "print(\"Co-efficiient of the line (M)        :\", m2)\n",
    "print(\"Co-efficient of determination (R^2)  :\", coeff_of_deter)"
   ]
  },
  {
   "cell_type": "code",
   "execution_count": 84,
   "id": "5b2b5e6b",
   "metadata": {},
   "outputs": [],
   "source": [
    "y_pred2=mo2.predict(x2_test)"
   ]
  },
  {
   "cell_type": "code",
   "execution_count": 85,
   "id": "478ad108",
   "metadata": {},
   "outputs": [
    {
     "data": {
      "text/html": [
       "<div>\n",
       "<style scoped>\n",
       "    .dataframe tbody tr th:only-of-type {\n",
       "        vertical-align: middle;\n",
       "    }\n",
       "\n",
       "    .dataframe tbody tr th {\n",
       "        vertical-align: top;\n",
       "    }\n",
       "\n",
       "    .dataframe thead th {\n",
       "        text-align: right;\n",
       "    }\n",
       "</style>\n",
       "<table border=\"1\" class=\"dataframe\">\n",
       "  <thead>\n",
       "    <tr style=\"text-align: right;\">\n",
       "      <th></th>\n",
       "      <th>actual</th>\n",
       "      <th>predict</th>\n",
       "    </tr>\n",
       "  </thead>\n",
       "  <tbody>\n",
       "    <tr>\n",
       "      <th>7</th>\n",
       "      <td>-0.494728</td>\n",
       "      <td>-0.450213</td>\n",
       "    </tr>\n",
       "    <tr>\n",
       "      <th>999</th>\n",
       "      <td>-0.661073</td>\n",
       "      <td>-0.473984</td>\n",
       "    </tr>\n",
       "    <tr>\n",
       "      <th>1209</th>\n",
       "      <td>-0.076267</td>\n",
       "      <td>0.072743</td>\n",
       "    </tr>\n",
       "    <tr>\n",
       "      <th>491</th>\n",
       "      <td>0.928725</td>\n",
       "      <td>0.120284</td>\n",
       "    </tr>\n",
       "    <tr>\n",
       "      <th>625</th>\n",
       "      <td>-0.787573</td>\n",
       "      <td>-0.640379</td>\n",
       "    </tr>\n",
       "    <tr>\n",
       "      <th>...</th>\n",
       "      <td>...</td>\n",
       "      <td>...</td>\n",
       "    </tr>\n",
       "    <tr>\n",
       "      <th>854</th>\n",
       "      <td>0.895172</td>\n",
       "      <td>1.838439</td>\n",
       "    </tr>\n",
       "    <tr>\n",
       "      <th>554</th>\n",
       "      <td>0.380693</td>\n",
       "      <td>-0.735461</td>\n",
       "    </tr>\n",
       "    <tr>\n",
       "      <th>1278</th>\n",
       "      <td>0.759294</td>\n",
       "      <td>1.600732</td>\n",
       "    </tr>\n",
       "    <tr>\n",
       "      <th>374</th>\n",
       "      <td>-0.981282</td>\n",
       "      <td>-0.854315</td>\n",
       "    </tr>\n",
       "    <tr>\n",
       "      <th>6</th>\n",
       "      <td>-0.415500</td>\n",
       "      <td>-0.236277</td>\n",
       "    </tr>\n",
       "  </tbody>\n",
       "</table>\n",
       "<p>402 rows × 2 columns</p>\n",
       "</div>"
      ],
      "text/plain": [
       "        actual   predict\n",
       "7    -0.494728 -0.450213\n",
       "999  -0.661073 -0.473984\n",
       "1209 -0.076267  0.072743\n",
       "491   0.928725  0.120284\n",
       "625  -0.787573 -0.640379\n",
       "...        ...       ...\n",
       "854   0.895172  1.838439\n",
       "554   0.380693 -0.735461\n",
       "1278  0.759294  1.600732\n",
       "374  -0.981282 -0.854315\n",
       "6    -0.415500 -0.236277\n",
       "\n",
       "[402 rows x 2 columns]"
      ]
     },
     "execution_count": 85,
     "metadata": {},
     "output_type": "execute_result"
    }
   ],
   "source": [
    "df2=pd.DataFrame()\n",
    "df2['actual']=y_test\n",
    "df2['predict']=y_pred2\n",
    "df2"
   ]
  },
  {
   "cell_type": "code",
   "execution_count": 86,
   "id": "ea8fdf9f",
   "metadata": {},
   "outputs": [
    {
     "name": "stdout",
     "output_type": "stream",
     "text": [
      "Mean squared error        : 0.2752718541536263\n",
      "Mean absolute error       : 0.3463633569553598\n",
      "Root mean squared error   : 0.5246635628225257\n"
     ]
    }
   ],
   "source": [
    "mse2=mean_squared_error(y_test,y_pred2)                    # mean squared error\n",
    "mae2= mean_absolute_error(y_test,y_pred2)                  # mean absolute error\n",
    "rmse2=mean_squared_error(y_test,y_pred2,squared=False)      # root mean squared error\n",
    "print(\"Mean squared error        :\",mse2)\n",
    "print(\"Mean absolute error       :\",mae2)\n",
    "print(\"Root mean squared error   :\",rmse2)"
   ]
  },
  {
   "cell_type": "markdown",
   "id": "83247f6a",
   "metadata": {},
   "source": [
    "# Linear Regression with three independent features"
   ]
  },
  {
   "cell_type": "code",
   "execution_count": 89,
   "id": "e884ae42",
   "metadata": {},
   "outputs": [],
   "source": [
    "x3=scaled_df[['smoker','age','bmi']]\n",
    "y=scaled_df.charges"
   ]
  },
  {
   "cell_type": "code",
   "execution_count": 90,
   "id": "2302eb51",
   "metadata": {},
   "outputs": [],
   "source": [
    "x3_train,x3_test,y_train,y_test=train_test_split(x3,y,test_size=0.3,random_state=10)"
   ]
  },
  {
   "cell_type": "code",
   "execution_count": 91,
   "id": "40108f75",
   "metadata": {},
   "outputs": [],
   "source": [
    "mo3=LinearRegression().fit(x3_train,y_train)          "
   ]
  },
  {
   "cell_type": "code",
   "execution_count": 92,
   "id": "cdbef7d3",
   "metadata": {},
   "outputs": [
    {
     "name": "stdout",
     "output_type": "stream",
     "text": [
      "Intercept of line (C)                : 0.0058184183638380245\n",
      "Co-efficiient of the line (M)        : [0.80646404 0.30981854 0.16445548]\n",
      "Co-efficient of determination (R^2)  : 0.7545278372986616\n"
     ]
    }
   ],
   "source": [
    "c3=mo3.intercept_                             # intercept of the line = C\n",
    "m3=mo3.coef_                                  # co-efficient of the line= M\n",
    "coeff_of_deter3=mo3.score(x3_train,y_train)    # co-efficient of determination(R^2)\n",
    "print(\"Intercept of line (C)                :\", c3)\n",
    "print(\"Co-efficiient of the line (M)        :\", m3)\n",
    "print(\"Co-efficient of determination (R^2)  :\", coeff_of_deter3)"
   ]
  },
  {
   "cell_type": "code",
   "execution_count": 93,
   "id": "43b795c0",
   "metadata": {},
   "outputs": [],
   "source": [
    "y_pred3=mo3.predict(x3_test)"
   ]
  },
  {
   "cell_type": "code",
   "execution_count": 94,
   "id": "3540749f",
   "metadata": {},
   "outputs": [
    {
     "data": {
      "text/html": [
       "<div>\n",
       "<style scoped>\n",
       "    .dataframe tbody tr th:only-of-type {\n",
       "        vertical-align: middle;\n",
       "    }\n",
       "\n",
       "    .dataframe tbody tr th {\n",
       "        vertical-align: top;\n",
       "    }\n",
       "\n",
       "    .dataframe thead th {\n",
       "        text-align: right;\n",
       "    }\n",
       "</style>\n",
       "<table border=\"1\" class=\"dataframe\">\n",
       "  <thead>\n",
       "    <tr style=\"text-align: right;\">\n",
       "      <th></th>\n",
       "      <th>actual</th>\n",
       "      <th>predict</th>\n",
       "    </tr>\n",
       "  </thead>\n",
       "  <tbody>\n",
       "    <tr>\n",
       "      <th>7</th>\n",
       "      <td>-0.494728</td>\n",
       "      <td>-0.529012</td>\n",
       "    </tr>\n",
       "    <tr>\n",
       "      <th>999</th>\n",
       "      <td>-0.661073</td>\n",
       "      <td>-0.574078</td>\n",
       "    </tr>\n",
       "    <tr>\n",
       "      <th>1209</th>\n",
       "      <td>-0.076267</td>\n",
       "      <td>0.207494</td>\n",
       "    </tr>\n",
       "    <tr>\n",
       "      <th>491</th>\n",
       "      <td>0.928725</td>\n",
       "      <td>-0.072782</td>\n",
       "    </tr>\n",
       "    <tr>\n",
       "      <th>625</th>\n",
       "      <td>-0.787573</td>\n",
       "      <td>-0.751142</td>\n",
       "    </tr>\n",
       "    <tr>\n",
       "      <th>...</th>\n",
       "      <td>...</td>\n",
       "      <td>...</td>\n",
       "    </tr>\n",
       "    <tr>\n",
       "      <th>854</th>\n",
       "      <td>0.895172</td>\n",
       "      <td>1.628362</td>\n",
       "    </tr>\n",
       "    <tr>\n",
       "      <th>554</th>\n",
       "      <td>0.380693</td>\n",
       "      <td>-0.426511</td>\n",
       "    </tr>\n",
       "    <tr>\n",
       "      <th>1278</th>\n",
       "      <td>0.759294</td>\n",
       "      <td>1.572392</td>\n",
       "    </tr>\n",
       "    <tr>\n",
       "      <th>374</th>\n",
       "      <td>-0.981282</td>\n",
       "      <td>-0.752199</td>\n",
       "    </tr>\n",
       "    <tr>\n",
       "      <th>6</th>\n",
       "      <td>-0.415500</td>\n",
       "      <td>-0.177241</td>\n",
       "    </tr>\n",
       "  </tbody>\n",
       "</table>\n",
       "<p>402 rows × 2 columns</p>\n",
       "</div>"
      ],
      "text/plain": [
       "        actual   predict\n",
       "7    -0.494728 -0.529012\n",
       "999  -0.661073 -0.574078\n",
       "1209 -0.076267  0.207494\n",
       "491   0.928725 -0.072782\n",
       "625  -0.787573 -0.751142\n",
       "...        ...       ...\n",
       "854   0.895172  1.628362\n",
       "554   0.380693 -0.426511\n",
       "1278  0.759294  1.572392\n",
       "374  -0.981282 -0.752199\n",
       "6    -0.415500 -0.177241\n",
       "\n",
       "[402 rows x 2 columns]"
      ]
     },
     "execution_count": 94,
     "metadata": {},
     "output_type": "execute_result"
    }
   ],
   "source": [
    "df3=pd.DataFrame()\n",
    "df3['actual']=y_test\n",
    "df3['predict']=y_pred3\n",
    "df3"
   ]
  },
  {
   "cell_type": "code",
   "execution_count": 95,
   "id": "9cd843ef",
   "metadata": {},
   "outputs": [
    {
     "name": "stdout",
     "output_type": "stream",
     "text": [
      "Mean squared error        : 0.25168741163205255\n",
      "Mean absolute error       : 0.34828675657814134\n",
      "Root mean squared error   : 0.50168457384302\n"
     ]
    }
   ],
   "source": [
    "mse3=mean_squared_error(y_test,y_pred3)                    # mean squared error\n",
    "mae3= mean_absolute_error(y_test,y_pred3)                  # mean absolute error\n",
    "rmse3=mean_squared_error(y_test,y_pred3,squared=False)      # root mean squared error\n",
    "print(\"Mean squared error        :\",mse3)\n",
    "print(\"Mean absolute error       :\",mae3)\n",
    "print(\"Root mean squared error   :\",rmse3)"
   ]
  },
  {
   "cell_type": "code",
   "execution_count": 98,
   "id": "e1e6a186",
   "metadata": {},
   "outputs": [],
   "source": [
    "final_data=pd.DataFrame({'Models':['Linear Regression(with one features)','Linear Regression(with two features)','Linear Regression(with tree features)'],\n",
    "                        'R^2 Value':[coeff_of_dete,coeff_of_deter,coeff_of_deter3],\n",
    "                        'Mean Square Error':[mse1,mse2,mse3],\n",
    "                        'Mean Absolute Error':[mae1,mae2,mae3],\n",
    "                        'Root Mean Squared Error':[rmse1,rmse2,rmse3]})"
   ]
  },
  {
   "cell_type": "code",
   "execution_count": 99,
   "id": "a768fe37",
   "metadata": {},
   "outputs": [
    {
     "data": {
      "text/html": [
       "<div>\n",
       "<style scoped>\n",
       "    .dataframe tbody tr th:only-of-type {\n",
       "        vertical-align: middle;\n",
       "    }\n",
       "\n",
       "    .dataframe tbody tr th {\n",
       "        vertical-align: top;\n",
       "    }\n",
       "\n",
       "    .dataframe thead th {\n",
       "        text-align: right;\n",
       "    }\n",
       "</style>\n",
       "<table border=\"1\" class=\"dataframe\">\n",
       "  <thead>\n",
       "    <tr style=\"text-align: right;\">\n",
       "      <th></th>\n",
       "      <th>Models</th>\n",
       "      <th>R^2 Value</th>\n",
       "      <th>Mean Square Error</th>\n",
       "      <th>Mean Absolute Error</th>\n",
       "      <th>Root Mean Squared Error</th>\n",
       "    </tr>\n",
       "  </thead>\n",
       "  <tbody>\n",
       "    <tr>\n",
       "      <th>0</th>\n",
       "      <td>Linear Regression(with one features)</td>\n",
       "      <td>0.618947</td>\n",
       "      <td>0.336920</td>\n",
       "      <td>0.442895</td>\n",
       "      <td>0.580448</td>\n",
       "    </tr>\n",
       "    <tr>\n",
       "      <th>1</th>\n",
       "      <td>Linear Regression(with two features)</td>\n",
       "      <td>0.728258</td>\n",
       "      <td>0.275272</td>\n",
       "      <td>0.346363</td>\n",
       "      <td>0.524664</td>\n",
       "    </tr>\n",
       "    <tr>\n",
       "      <th>2</th>\n",
       "      <td>Linear Regression(with tree features)</td>\n",
       "      <td>0.754528</td>\n",
       "      <td>0.251687</td>\n",
       "      <td>0.348287</td>\n",
       "      <td>0.501685</td>\n",
       "    </tr>\n",
       "  </tbody>\n",
       "</table>\n",
       "</div>"
      ],
      "text/plain": [
       "                                  Models  R^2 Value  Mean Square Error  \\\n",
       "0   Linear Regression(with one features)   0.618947           0.336920   \n",
       "1   Linear Regression(with two features)   0.728258           0.275272   \n",
       "2  Linear Regression(with tree features)   0.754528           0.251687   \n",
       "\n",
       "   Mean Absolute Error  Root Mean Squared Error  \n",
       "0             0.442895                 0.580448  \n",
       "1             0.346363                 0.524664  \n",
       "2             0.348287                 0.501685  "
      ]
     },
     "execution_count": 99,
     "metadata": {},
     "output_type": "execute_result"
    }
   ],
   "source": [
    "final_data"
   ]
  },
  {
   "cell_type": "markdown",
   "id": "26aec733",
   "metadata": {},
   "source": [
    "### So the best model in linear regression will be LinearRegression with(three features) becouse it has highest R^2 value and less error as compare to others."
   ]
  },
  {
   "cell_type": "markdown",
   "id": "312a8408",
   "metadata": {},
   "source": [
    "# USING DECISION TREE REGRESSOR METHOD"
   ]
  },
  {
   "cell_type": "code",
   "execution_count": 71,
   "id": "2815ad3b",
   "metadata": {},
   "outputs": [],
   "source": [
    "dtm = DecisionTreeRegressor()\n",
    "model2= dtm.fit(x_train, y_train)"
   ]
  },
  {
   "cell_type": "code",
   "execution_count": 108,
   "id": "42a35eb8",
   "metadata": {},
   "outputs": [
    {
     "name": "stdout",
     "output_type": "stream",
     "text": [
      "Co-efficient of determination (R^2)  : 0.9981024863143015\n"
     ]
    }
   ],
   "source": [
    "coeff_of_det2=model2.score(x_train,y_train)\n",
    "print(\"Co-efficient of determination (R^2)  :\", coeff_of_det2)"
   ]
  },
  {
   "cell_type": "code",
   "execution_count": 72,
   "id": "44d67562",
   "metadata": {},
   "outputs": [],
   "source": [
    "y_predict1 = model2.predict(x_test)"
   ]
  },
  {
   "cell_type": "code",
   "execution_count": 75,
   "id": "0d147c00",
   "metadata": {},
   "outputs": [
    {
     "data": {
      "text/html": [
       "<div>\n",
       "<style scoped>\n",
       "    .dataframe tbody tr th:only-of-type {\n",
       "        vertical-align: middle;\n",
       "    }\n",
       "\n",
       "    .dataframe tbody tr th {\n",
       "        vertical-align: top;\n",
       "    }\n",
       "\n",
       "    .dataframe thead th {\n",
       "        text-align: right;\n",
       "    }\n",
       "</style>\n",
       "<table border=\"1\" class=\"dataframe\">\n",
       "  <thead>\n",
       "    <tr style=\"text-align: right;\">\n",
       "      <th></th>\n",
       "      <th>actual_y</th>\n",
       "      <th>predicted_y</th>\n",
       "    </tr>\n",
       "  </thead>\n",
       "  <tbody>\n",
       "    <tr>\n",
       "      <th>338</th>\n",
       "      <td>2.366586</td>\n",
       "      <td>2.298689</td>\n",
       "    </tr>\n",
       "    <tr>\n",
       "      <th>620</th>\n",
       "      <td>-0.793944</td>\n",
       "      <td>-0.759484</td>\n",
       "    </tr>\n",
       "    <tr>\n",
       "      <th>965</th>\n",
       "      <td>-0.704150</td>\n",
       "      <td>-0.682966</td>\n",
       "    </tr>\n",
       "    <tr>\n",
       "      <th>128</th>\n",
       "      <td>1.607847</td>\n",
       "      <td>0.475226</td>\n",
       "    </tr>\n",
       "    <tr>\n",
       "      <th>329</th>\n",
       "      <td>-0.340825</td>\n",
       "      <td>0.058769</td>\n",
       "    </tr>\n",
       "    <tr>\n",
       "      <th>...</th>\n",
       "      <td>...</td>\n",
       "      <td>...</td>\n",
       "    </tr>\n",
       "    <tr>\n",
       "      <th>659</th>\n",
       "      <td>0.092848</td>\n",
       "      <td>-0.026539</td>\n",
       "    </tr>\n",
       "    <tr>\n",
       "      <th>893</th>\n",
       "      <td>2.555224</td>\n",
       "      <td>2.716182</td>\n",
       "    </tr>\n",
       "    <tr>\n",
       "      <th>584</th>\n",
       "      <td>-0.993567</td>\n",
       "      <td>-0.953183</td>\n",
       "    </tr>\n",
       "    <tr>\n",
       "      <th>1290</th>\n",
       "      <td>-0.506921</td>\n",
       "      <td>-0.547675</td>\n",
       "    </tr>\n",
       "    <tr>\n",
       "      <th>302</th>\n",
       "      <td>-0.083013</td>\n",
       "      <td>1.668793</td>\n",
       "    </tr>\n",
       "  </tbody>\n",
       "</table>\n",
       "<p>402 rows × 2 columns</p>\n",
       "</div>"
      ],
      "text/plain": [
       "      actual_y  predicted_y\n",
       "338   2.366586     2.298689\n",
       "620  -0.793944    -0.759484\n",
       "965  -0.704150    -0.682966\n",
       "128   1.607847     0.475226\n",
       "329  -0.340825     0.058769\n",
       "...        ...          ...\n",
       "659   0.092848    -0.026539\n",
       "893   2.555224     2.716182\n",
       "584  -0.993567    -0.953183\n",
       "1290 -0.506921    -0.547675\n",
       "302  -0.083013     1.668793\n",
       "\n",
       "[402 rows x 2 columns]"
      ]
     },
     "execution_count": 75,
     "metadata": {},
     "output_type": "execute_result"
    }
   ],
   "source": [
    "data1 = pd.DataFrame()\n",
    "data1['actual_y'] = y_test\n",
    "data1['predicted_y'] = y_predict1\n",
    "data1"
   ]
  },
  {
   "cell_type": "code",
   "execution_count": 76,
   "id": "689cf15e",
   "metadata": {},
   "outputs": [
    {
     "name": "stdout",
     "output_type": "stream",
     "text": [
      "R-Squared on train dataset=0.9981024863143015\n"
     ]
    }
   ],
   "source": [
    "print(\"R-Squared on train dataset={}\".format(model2.score(x_train,y_train)))"
   ]
  },
  {
   "cell_type": "code",
   "execution_count": 77,
   "id": "81b3f419",
   "metadata": {},
   "outputs": [
    {
     "name": "stdout",
     "output_type": "stream",
     "text": [
      "R-Squared on test dataset=0.714521211247267\n"
     ]
    }
   ],
   "source": [
    "print(\"R-Squared on test dataset={}\".format(model2.score(x_test,y_test)))"
   ]
  },
  {
   "cell_type": "code",
   "execution_count": 110,
   "id": "c0b20e6b",
   "metadata": {},
   "outputs": [
    {
     "name": "stdout",
     "output_type": "stream",
     "text": [
      "mean squared error : 0.28,mean absolute error : 0.25, root mean squared error : 0.53\n"
     ]
    }
   ],
   "source": [
    "MSE_1 = round(mean_squared_error(y_test,y_predict1),2)\n",
    "MAE_1= round(mean_absolute_error(y_test,y_predict1),2)\n",
    "RMSE_1 = round(mean_squared_error(y_test,y_predict1,squared=False),2)\n",
    "print('mean squared error : {},mean absolute error : {}, root mean squared error : {}'.format(MSE_1,MAE_1,RMSE_1))"
   ]
  },
  {
   "cell_type": "markdown",
   "id": "f27874ce",
   "metadata": {},
   "source": [
    "# USING RANDOM FOREST REGRESSOR METHOD"
   ]
  },
  {
   "cell_type": "code",
   "execution_count": 78,
   "id": "2a6d4f2b",
   "metadata": {},
   "outputs": [],
   "source": [
    "regressor = RandomForestRegressor() "
   ]
  },
  {
   "cell_type": "code",
   "execution_count": 79,
   "id": "23d2bf7d",
   "metadata": {},
   "outputs": [],
   "source": [
    "model3 = regressor.fit(x_train, y_train)"
   ]
  },
  {
   "cell_type": "code",
   "execution_count": 80,
   "id": "b2c971db",
   "metadata": {},
   "outputs": [
    {
     "data": {
      "text/plain": [
       "0.9762236269784104"
      ]
     },
     "execution_count": 80,
     "metadata": {},
     "output_type": "execute_result"
    }
   ],
   "source": [
    "model3.score(x_train,y_train)"
   ]
  },
  {
   "cell_type": "code",
   "execution_count": 121,
   "id": "e8e1affe",
   "metadata": {},
   "outputs": [
    {
     "name": "stdout",
     "output_type": "stream",
     "text": [
      "Co-efficient of determination (R^2)  : 0.8222231895196392\n"
     ]
    }
   ],
   "source": [
    "coeff_of_det3=model3.score(x_train,y_train)\n",
    "print(\"Co-efficient of determination (R^2)  :\", coeff_of_det3)"
   ]
  },
  {
   "cell_type": "code",
   "execution_count": 82,
   "id": "5aaddbf0",
   "metadata": {},
   "outputs": [
    {
     "name": "stdout",
     "output_type": "stream",
     "text": [
      "R-Squared on train dataset=0.8222231895196392\n",
      "R-Squared on test dataset=0.9740052527376322\n"
     ]
    }
   ],
   "source": [
    "regressor.fit(x_train,y_train)\n",
    "regressor.fit(x_test,y_test)\n",
    "print(\"R-Squared on train dataset={}\".format(model3.score(x_train,y_train)))\n",
    "print(\"R-Squared on test dataset={}\".format(model3.score(x_test,y_test)))"
   ]
  },
  {
   "cell_type": "code",
   "execution_count": 83,
   "id": "52372a6d",
   "metadata": {},
   "outputs": [],
   "source": [
    "y_predict3= model3.predict(x_test)"
   ]
  },
  {
   "cell_type": "code",
   "execution_count": 84,
   "id": "b5b3a8ec",
   "metadata": {},
   "outputs": [
    {
     "name": "stdout",
     "output_type": "stream",
     "text": [
      "mean squared error : 0.03,mean absolute error : 0.09, root mean squared error : 0.16\n"
     ]
    }
   ],
   "source": [
    "MSE1 = round(mean_squared_error(y_test,y_predict3),2)\n",
    "MAE1 = round(mean_absolute_error(y_test,y_predict3),2)\n",
    "RMSE1 = round(mean_squared_error(y_test,y_predict3,squared=False),2)\n",
    "print('mean squared error : {},mean absolute error : {}, root mean squared error : {}'.format(MSE1,MAE1,RMSE1))"
   ]
  },
  {
   "cell_type": "markdown",
   "id": "23756017",
   "metadata": {},
   "source": [
    "# USING RANDOM FOREST REGRESSOR WITH HYPERPARAMETERS."
   ]
  },
  {
   "cell_type": "code",
   "execution_count": 85,
   "id": "828ccbf7",
   "metadata": {},
   "outputs": [],
   "source": [
    "rf = RandomForestRegressor(random_state=30, n_jobs=-1)"
   ]
  },
  {
   "cell_type": "code",
   "execution_count": 86,
   "id": "31456425",
   "metadata": {},
   "outputs": [],
   "source": [
    " params = {\n",
    " 'max_depth': [2,3,5,10,20],\n",
    " 'min_samples_leaf': [5,10,20,50,100,200],   \n",
    " 'n_estimators': [10,25,30,50,100,200] }  # these are the hyper parameters which are helping us to find best accuracy with passing the hyper parameters\n"
   ]
  },
  {
   "cell_type": "code",
   "execution_count": 88,
   "id": "981b4bce",
   "metadata": {},
   "outputs": [],
   "source": [
    "from sklearn.model_selection import GridSearchCV"
   ]
  },
  {
   "cell_type": "code",
   "execution_count": 89,
   "id": "78e2d34b",
   "metadata": {},
   "outputs": [],
   "source": [
    "grid_search = GridSearchCV(estimator=rf,param_grid=params,cv = 4,n_jobs=-1, verbose=1, scoring=\"accuracy\")"
   ]
  },
  {
   "cell_type": "code",
   "execution_count": 101,
   "id": "261fb22d",
   "metadata": {},
   "outputs": [
    {
     "name": "stdout",
     "output_type": "stream",
     "text": [
      "Fitting 4 folds for each of 180 candidates, totalling 720 fits\n",
      "CPU times: total: 2.36 s\n",
      "Wall time: 30.7 s\n"
     ]
    },
    {
     "data": {
      "text/plain": [
       "GridSearchCV(cv=4, estimator=RandomForestRegressor(n_jobs=-1, random_state=30),\n",
       "             n_jobs=-1,\n",
       "             param_grid={'max_depth': [2, 3, 5, 10, 20],\n",
       "                         'min_samples_leaf': [5, 10, 20, 50, 100, 200],\n",
       "                         'n_estimators': [10, 25, 30, 50, 100, 200]},\n",
       "             scoring='accuracy', verbose=1)"
      ]
     },
     "execution_count": 101,
     "metadata": {},
     "output_type": "execute_result"
    }
   ],
   "source": [
    "%%time\n",
    "grid_search.fit(x_train,y_train)"
   ]
  },
  {
   "cell_type": "code",
   "execution_count": 103,
   "id": "7ab8fc61",
   "metadata": {},
   "outputs": [
    {
     "data": {
      "text/plain": [
       "RandomForestRegressor(max_depth=2, min_samples_leaf=5, n_estimators=10,\n",
       "                      n_jobs=-1, random_state=30)"
      ]
     },
     "execution_count": 103,
     "metadata": {},
     "output_type": "execute_result"
    }
   ],
   "source": [
    "randomforest_best=grid_search.best_estimator_\n",
    "randomforest_best"
   ]
  },
  {
   "cell_type": "code",
   "execution_count": 104,
   "id": "dfac649c",
   "metadata": {},
   "outputs": [],
   "source": [
    "rf_best=RandomForestRegressor(max_depth=2, min_samples_leaf=5, n_jobs=-1,random_state=30)\n",
    "best_model=rf_best.fit(x_train,y_train)\n",
    "y2_predict=best_model.predict(x_test)"
   ]
  },
  {
   "cell_type": "code",
   "execution_count": 105,
   "id": "4c990ea3",
   "metadata": {},
   "outputs": [
    {
     "data": {
      "text/html": [
       "<div>\n",
       "<style scoped>\n",
       "    .dataframe tbody tr th:only-of-type {\n",
       "        vertical-align: middle;\n",
       "    }\n",
       "\n",
       "    .dataframe tbody tr th {\n",
       "        vertical-align: top;\n",
       "    }\n",
       "\n",
       "    .dataframe thead th {\n",
       "        text-align: right;\n",
       "    }\n",
       "</style>\n",
       "<table border=\"1\" class=\"dataframe\">\n",
       "  <thead>\n",
       "    <tr style=\"text-align: right;\">\n",
       "      <th></th>\n",
       "      <th>actual</th>\n",
       "      <th>predicted_prob</th>\n",
       "    </tr>\n",
       "  </thead>\n",
       "  <tbody>\n",
       "    <tr>\n",
       "      <th>338</th>\n",
       "      <td>2.366586</td>\n",
       "      <td>2.382445</td>\n",
       "    </tr>\n",
       "    <tr>\n",
       "      <th>620</th>\n",
       "      <td>-0.793944</td>\n",
       "      <td>-0.639530</td>\n",
       "    </tr>\n",
       "    <tr>\n",
       "      <th>965</th>\n",
       "      <td>-0.704150</td>\n",
       "      <td>-0.639530</td>\n",
       "    </tr>\n",
       "    <tr>\n",
       "      <th>128</th>\n",
       "      <td>1.607847</td>\n",
       "      <td>0.639604</td>\n",
       "    </tr>\n",
       "    <tr>\n",
       "      <th>329</th>\n",
       "      <td>-0.340825</td>\n",
       "      <td>-0.019936</td>\n",
       "    </tr>\n",
       "    <tr>\n",
       "      <th>...</th>\n",
       "      <td>...</td>\n",
       "      <td>...</td>\n",
       "    </tr>\n",
       "    <tr>\n",
       "      <th>659</th>\n",
       "      <td>0.092848</td>\n",
       "      <td>-0.019936</td>\n",
       "    </tr>\n",
       "    <tr>\n",
       "      <th>893</th>\n",
       "      <td>2.555224</td>\n",
       "      <td>2.382445</td>\n",
       "    </tr>\n",
       "    <tr>\n",
       "      <th>584</th>\n",
       "      <td>-0.993567</td>\n",
       "      <td>-0.639530</td>\n",
       "    </tr>\n",
       "    <tr>\n",
       "      <th>1290</th>\n",
       "      <td>-0.506921</td>\n",
       "      <td>-0.639530</td>\n",
       "    </tr>\n",
       "    <tr>\n",
       "      <th>302</th>\n",
       "      <td>-0.083013</td>\n",
       "      <td>-0.019936</td>\n",
       "    </tr>\n",
       "  </tbody>\n",
       "</table>\n",
       "<p>402 rows × 2 columns</p>\n",
       "</div>"
      ],
      "text/plain": [
       "        actual  predicted_prob\n",
       "338   2.366586        2.382445\n",
       "620  -0.793944       -0.639530\n",
       "965  -0.704150       -0.639530\n",
       "128   1.607847        0.639604\n",
       "329  -0.340825       -0.019936\n",
       "...        ...             ...\n",
       "659   0.092848       -0.019936\n",
       "893   2.555224        2.382445\n",
       "584  -0.993567       -0.639530\n",
       "1290 -0.506921       -0.639530\n",
       "302  -0.083013       -0.019936\n",
       "\n",
       "[402 rows x 2 columns]"
      ]
     },
     "execution_count": 105,
     "metadata": {},
     "output_type": "execute_result"
    }
   ],
   "source": [
    "y_pred_rf1=pd.DataFrame({'actual': y_test,'predicted_prob': grid_search.predict((x_test))})\n",
    "y_pred_rf1"
   ]
  },
  {
   "cell_type": "code",
   "execution_count": 106,
   "id": "49853ad3",
   "metadata": {},
   "outputs": [
    {
     "name": "stdout",
     "output_type": "stream",
     "text": [
      "Co-efficient of determination (R^2)  : 0.8342447752915253\n"
     ]
    }
   ],
   "source": [
    "coeff_of_det4=best_model.score(x_train,y_train)                    # co-efficient of determination(R^2)\n",
    "print(\"Co-efficient of determination (R^2)  :\", coeff_of_det4)"
   ]
  },
  {
   "cell_type": "code",
   "execution_count": 95,
   "id": "0fa675ff",
   "metadata": {},
   "outputs": [
    {
     "name": "stdout",
     "output_type": "stream",
     "text": [
      "mean squared error : 0.18,mean absolute error : 0.27, root mean squared error : 0.42\n"
     ]
    }
   ],
   "source": [
    "MSE2 = round(mean_squared_error(y_test,y_predict4),2)\n",
    "MAE2= round(mean_absolute_error(y_test,y_predict4),2)\n",
    "RMSE2 = round(mean_squared_error(y_test,y_predict4,squared=False),2)\n",
    "print('mean squared error : {},mean absolute error : {}, root mean squared error : {}'.format(MSE2,MAE2,RMSE2))"
   ]
  },
  {
   "cell_type": "markdown",
   "id": "52bc204d",
   "metadata": {},
   "source": [
    "# Final Conclusion"
   ]
  },
  {
   "cell_type": "code",
   "execution_count": 122,
   "id": "2355d0af",
   "metadata": {},
   "outputs": [],
   "source": [
    "m=['Model Type','R^2 Value','Mean Square Error','Mean Absolute Error','Root Mean Squared Error']\n",
    "m1=['Liner Regression',coeff_of_det,MSE,MAE,RMSE]\n",
    "m2=['Decision Tree',coeff_of_det2,MSE_1,MAE_1,RMSE_1]\n",
    "m3=[\"Random Forest\",coeff_of_det3,MSE1,MAE1,RMSE1]\n",
    "m4=[\"Random Forest(tuned hyperparameters)\",coeff_of_det4,MSE2,MAE2,RMSE2]"
   ]
  },
  {
   "cell_type": "code",
   "execution_count": 123,
   "id": "e3508575",
   "metadata": {},
   "outputs": [],
   "source": [
    "final_table=pd.DataFrame()\n",
    "final_table['Model']=m\n",
    "final_table[\"Model 1\"]=m1\n",
    "final_table['Model 2']=m2\n",
    "final_table['Model 3']=m3\n",
    "final_table['Model 4']=m4"
   ]
  },
  {
   "cell_type": "code",
   "execution_count": 124,
   "id": "057130e7",
   "metadata": {},
   "outputs": [
    {
     "data": {
      "text/html": [
       "<div>\n",
       "<style scoped>\n",
       "    .dataframe tbody tr th:only-of-type {\n",
       "        vertical-align: middle;\n",
       "    }\n",
       "\n",
       "    .dataframe tbody tr th {\n",
       "        vertical-align: top;\n",
       "    }\n",
       "\n",
       "    .dataframe thead th {\n",
       "        text-align: right;\n",
       "    }\n",
       "</style>\n",
       "<table border=\"1\" class=\"dataframe\">\n",
       "  <thead>\n",
       "    <tr style=\"text-align: right;\">\n",
       "      <th></th>\n",
       "      <th>Model</th>\n",
       "      <th>Model 1</th>\n",
       "      <th>Model 2</th>\n",
       "      <th>Model 3</th>\n",
       "      <th>Model 4</th>\n",
       "    </tr>\n",
       "  </thead>\n",
       "  <tbody>\n",
       "    <tr>\n",
       "      <th>0</th>\n",
       "      <td>Model Type</td>\n",
       "      <td>Liner Regression</td>\n",
       "      <td>Decision Tree</td>\n",
       "      <td>Random Forest</td>\n",
       "      <td>Random Forest(tuned hyperparameters)</td>\n",
       "    </tr>\n",
       "    <tr>\n",
       "      <th>1</th>\n",
       "      <td>R^2 Value</td>\n",
       "      <td>0.74258</td>\n",
       "      <td>0.998102</td>\n",
       "      <td>0.822223</td>\n",
       "      <td>0.834245</td>\n",
       "    </tr>\n",
       "    <tr>\n",
       "      <th>2</th>\n",
       "      <td>Mean Square Error</td>\n",
       "      <td>0.33526</td>\n",
       "      <td>0.28</td>\n",
       "      <td>0.03</td>\n",
       "      <td>0.18</td>\n",
       "    </tr>\n",
       "    <tr>\n",
       "      <th>3</th>\n",
       "      <td>Mean Absolute Error</td>\n",
       "      <td>0.241713</td>\n",
       "      <td>0.25</td>\n",
       "      <td>0.09</td>\n",
       "      <td>0.27</td>\n",
       "    </tr>\n",
       "    <tr>\n",
       "      <th>4</th>\n",
       "      <td>Root Mean Squared Error</td>\n",
       "      <td>0.491644</td>\n",
       "      <td>0.53</td>\n",
       "      <td>0.16</td>\n",
       "      <td>0.42</td>\n",
       "    </tr>\n",
       "  </tbody>\n",
       "</table>\n",
       "</div>"
      ],
      "text/plain": [
       "                     Model           Model 1        Model 2        Model 3  \\\n",
       "0               Model Type  Liner Regression  Decision Tree  Random Forest   \n",
       "1                R^2 Value           0.74258       0.998102       0.822223   \n",
       "2        Mean Square Error           0.33526           0.28           0.03   \n",
       "3      Mean Absolute Error          0.241713           0.25           0.09   \n",
       "4  Root Mean Squared Error          0.491644           0.53           0.16   \n",
       "\n",
       "                                Model 4  \n",
       "0  Random Forest(tuned hyperparameters)  \n",
       "1                              0.834245  \n",
       "2                                  0.18  \n",
       "3                                  0.27  \n",
       "4                                  0.42  "
      ]
     },
     "execution_count": 124,
     "metadata": {},
     "output_type": "execute_result"
    }
   ],
   "source": [
    "final_table"
   ]
  },
  {
   "cell_type": "markdown",
   "id": "f92b5e56",
   "metadata": {},
   "source": [
    "# Conclusion:- From the table we can see that if we consider R^2 value we can see that model 2 which is Decision tree has the highest R^2 value 0.99 from this we can see that this model is overfited so we will not consider this model 2 And  if we consider (MSE),(MAE) AND (RMSE) all the error with R^2 value. Then we can consider model 3 which is Random Forest is the best model becouse it has a very low errors as compare to others models. so considering all the errors and R^2  values the best model will be model 3 Random Forest becouse it has a quite good R^2 values and very less errors a compares to others models."
   ]
  },
  {
   "cell_type": "code",
   "execution_count": null,
   "id": "8498ae58",
   "metadata": {},
   "outputs": [],
   "source": []
  }
 ],
 "metadata": {
  "kernelspec": {
   "display_name": "Python 3 (ipykernel)",
   "language": "python",
   "name": "python3"
  },
  "language_info": {
   "codemirror_mode": {
    "name": "ipython",
    "version": 3
   },
   "file_extension": ".py",
   "mimetype": "text/x-python",
   "name": "python",
   "nbconvert_exporter": "python",
   "pygments_lexer": "ipython3",
   "version": "3.9.12"
  }
 },
 "nbformat": 4,
 "nbformat_minor": 5
}
